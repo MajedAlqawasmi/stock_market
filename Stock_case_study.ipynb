{
 "cells": [
  {
   "cell_type": "markdown",
   "id": "d072fcaf",
   "metadata": {},
   "source": [
    "# <font color=green>The following shall answer those 5 questions:</font> "
   ]
  },
  {
   "cell_type": "markdown",
   "id": "7c09a1af",
   "metadata": {},
   "source": [
    "#### <font color=green> 1- Could you show us how the median `close` stock price changed year over year? Use whichever visualization you would fine suitable.</font>"
   ]
  },
  {
   "cell_type": "markdown",
   "id": "d792eb25",
   "metadata": {},
   "source": [
    "#### <font color=green> 2- How did the volatility of this stock index changed year over year? For the sake of exercise, don't bother with VIX and similar proper volatility indicators - a standard deviation of `close` price will do. What do you see?</font>"
   ]
  },
  {
   "cell_type": "markdown",
   "id": "955ca993",
   "metadata": {},
   "source": [
    "#### <font color=green> 3- Which are the top 5 most volatile stocks in a year in that dataset? Group by `date`'s year and `name`, use standard deviation to approximate volatility.</font>"
   ]
  },
  {
   "cell_type": "markdown",
   "id": "46f4bee5",
   "metadata": {},
   "source": [
    "#### <font color=green> 4- Let's zoom in and look at the Google stock in 2015 (`name` is `GOOGL`), again looking at the closing price. Could you show daily, weekly, and monthly dynamics? Weeks should start on Mondays and be labelled by Monday's date.</font>"
   ]
  },
  {
   "cell_type": "markdown",
   "id": "8f86e20c",
   "metadata": {},
   "source": [
    "#### <font color=green> 5- Finally, please, show the closing prices of Google, Amazon (`AMZN`), and Microsoft (`MSFT`) on the same chart, for the whole duration of data. What do you see? </font>"
   ]
  },
  {
   "cell_type": "markdown",
   "id": "0128ada5",
   "metadata": {},
   "source": [
    "# <font color=green>----------------------------------------------------------------------------------------------------</font>"
   ]
  },
  {
   "cell_type": "markdown",
   "id": "7d0e801c",
   "metadata": {},
   "source": [
    "# Importing libraries"
   ]
  },
  {
   "cell_type": "code",
   "execution_count": 1,
   "id": "9eeb313c",
   "metadata": {},
   "outputs": [],
   "source": [
    "import pandas as pd \n",
    "import numpy as np\n",
    "import matplotlib.pyplot as plt\n",
    "import seaborn as sns\n",
    "from pandas.plotting import scatter_matrix"
   ]
  },
  {
   "cell_type": "code",
   "execution_count": 2,
   "id": "8e452fcb",
   "metadata": {},
   "outputs": [],
   "source": [
    "import time\n",
    "from datetime import date"
   ]
  },
  {
   "cell_type": "markdown",
   "id": "b4c000fc",
   "metadata": {},
   "source": [
    "# Importing dataset"
   ]
  },
  {
   "cell_type": "markdown",
   "id": "0459dd73",
   "metadata": {},
   "source": [
    "#### Please download and unzip the folder, or download the file directly: https://www.kaggle.com/camnugent/sandp500?select=all_stocks_5yr.csv\n",
    "#### Then move the csv file to the same file where the notekook is"
   ]
  },
  {
   "cell_type": "code",
   "execution_count": 3,
   "id": "1ddfc928",
   "metadata": {},
   "outputs": [],
   "source": [
    "stock_data=pd.read_csv('all_stocks_5yr_data.csv')"
   ]
  },
  {
   "cell_type": "code",
   "execution_count": 83,
   "id": "12ff10bf",
   "metadata": {},
   "outputs": [
    {
     "data": {
      "text/html": [
       "<div>\n",
       "<style scoped>\n",
       "    .dataframe tbody tr th:only-of-type {\n",
       "        vertical-align: middle;\n",
       "    }\n",
       "\n",
       "    .dataframe tbody tr th {\n",
       "        vertical-align: top;\n",
       "    }\n",
       "\n",
       "    .dataframe thead th {\n",
       "        text-align: right;\n",
       "    }\n",
       "</style>\n",
       "<table border=\"1\" class=\"dataframe\">\n",
       "  <thead>\n",
       "    <tr style=\"text-align: right;\">\n",
       "      <th></th>\n",
       "      <th>date</th>\n",
       "      <th>open</th>\n",
       "      <th>high</th>\n",
       "      <th>low</th>\n",
       "      <th>close</th>\n",
       "      <th>volume</th>\n",
       "      <th>name</th>\n",
       "      <th>year</th>\n",
       "      <th>month</th>\n",
       "      <th>week</th>\n",
       "      <th>day</th>\n",
       "      <th>week_day</th>\n",
       "    </tr>\n",
       "  </thead>\n",
       "  <tbody>\n",
       "    <tr>\n",
       "      <th>0</th>\n",
       "      <td>2013-02-08</td>\n",
       "      <td>15.07</td>\n",
       "      <td>15.12</td>\n",
       "      <td>14.63</td>\n",
       "      <td>14.75</td>\n",
       "      <td>8407500</td>\n",
       "      <td>AAL</td>\n",
       "      <td>2013</td>\n",
       "      <td>2</td>\n",
       "      <td>6</td>\n",
       "      <td>8</td>\n",
       "      <td>Friday</td>\n",
       "    </tr>\n",
       "    <tr>\n",
       "      <th>1</th>\n",
       "      <td>2013-02-11</td>\n",
       "      <td>14.89</td>\n",
       "      <td>15.01</td>\n",
       "      <td>14.26</td>\n",
       "      <td>14.46</td>\n",
       "      <td>8882000</td>\n",
       "      <td>AAL</td>\n",
       "      <td>2013</td>\n",
       "      <td>2</td>\n",
       "      <td>7</td>\n",
       "      <td>11</td>\n",
       "      <td>Monday</td>\n",
       "    </tr>\n",
       "    <tr>\n",
       "      <th>2</th>\n",
       "      <td>2013-02-12</td>\n",
       "      <td>14.45</td>\n",
       "      <td>14.51</td>\n",
       "      <td>14.10</td>\n",
       "      <td>14.27</td>\n",
       "      <td>8126000</td>\n",
       "      <td>AAL</td>\n",
       "      <td>2013</td>\n",
       "      <td>2</td>\n",
       "      <td>7</td>\n",
       "      <td>12</td>\n",
       "      <td>Tuesday</td>\n",
       "    </tr>\n",
       "    <tr>\n",
       "      <th>3</th>\n",
       "      <td>2013-02-13</td>\n",
       "      <td>14.30</td>\n",
       "      <td>14.94</td>\n",
       "      <td>14.25</td>\n",
       "      <td>14.66</td>\n",
       "      <td>10259500</td>\n",
       "      <td>AAL</td>\n",
       "      <td>2013</td>\n",
       "      <td>2</td>\n",
       "      <td>7</td>\n",
       "      <td>13</td>\n",
       "      <td>Wednesday</td>\n",
       "    </tr>\n",
       "    <tr>\n",
       "      <th>4</th>\n",
       "      <td>2013-02-14</td>\n",
       "      <td>14.94</td>\n",
       "      <td>14.96</td>\n",
       "      <td>13.16</td>\n",
       "      <td>13.99</td>\n",
       "      <td>31879900</td>\n",
       "      <td>AAL</td>\n",
       "      <td>2013</td>\n",
       "      <td>2</td>\n",
       "      <td>7</td>\n",
       "      <td>14</td>\n",
       "      <td>Thursday</td>\n",
       "    </tr>\n",
       "    <tr>\n",
       "      <th>5</th>\n",
       "      <td>2013-02-15</td>\n",
       "      <td>13.93</td>\n",
       "      <td>14.61</td>\n",
       "      <td>13.93</td>\n",
       "      <td>14.50</td>\n",
       "      <td>15628000</td>\n",
       "      <td>AAL</td>\n",
       "      <td>2013</td>\n",
       "      <td>2</td>\n",
       "      <td>7</td>\n",
       "      <td>15</td>\n",
       "      <td>Friday</td>\n",
       "    </tr>\n",
       "    <tr>\n",
       "      <th>6</th>\n",
       "      <td>2013-02-19</td>\n",
       "      <td>14.33</td>\n",
       "      <td>14.56</td>\n",
       "      <td>14.08</td>\n",
       "      <td>14.26</td>\n",
       "      <td>11354400</td>\n",
       "      <td>AAL</td>\n",
       "      <td>2013</td>\n",
       "      <td>2</td>\n",
       "      <td>8</td>\n",
       "      <td>19</td>\n",
       "      <td>Tuesday</td>\n",
       "    </tr>\n",
       "    <tr>\n",
       "      <th>7</th>\n",
       "      <td>2013-02-20</td>\n",
       "      <td>14.17</td>\n",
       "      <td>14.26</td>\n",
       "      <td>13.15</td>\n",
       "      <td>13.33</td>\n",
       "      <td>14725200</td>\n",
       "      <td>AAL</td>\n",
       "      <td>2013</td>\n",
       "      <td>2</td>\n",
       "      <td>8</td>\n",
       "      <td>20</td>\n",
       "      <td>Wednesday</td>\n",
       "    </tr>\n",
       "    <tr>\n",
       "      <th>8</th>\n",
       "      <td>2013-02-21</td>\n",
       "      <td>13.62</td>\n",
       "      <td>13.95</td>\n",
       "      <td>12.90</td>\n",
       "      <td>13.37</td>\n",
       "      <td>11922100</td>\n",
       "      <td>AAL</td>\n",
       "      <td>2013</td>\n",
       "      <td>2</td>\n",
       "      <td>8</td>\n",
       "      <td>21</td>\n",
       "      <td>Thursday</td>\n",
       "    </tr>\n",
       "    <tr>\n",
       "      <th>9</th>\n",
       "      <td>2013-02-22</td>\n",
       "      <td>13.57</td>\n",
       "      <td>13.60</td>\n",
       "      <td>13.21</td>\n",
       "      <td>13.57</td>\n",
       "      <td>6071400</td>\n",
       "      <td>AAL</td>\n",
       "      <td>2013</td>\n",
       "      <td>2</td>\n",
       "      <td>8</td>\n",
       "      <td>22</td>\n",
       "      <td>Friday</td>\n",
       "    </tr>\n",
       "    <tr>\n",
       "      <th>10</th>\n",
       "      <td>2013-02-25</td>\n",
       "      <td>13.60</td>\n",
       "      <td>13.76</td>\n",
       "      <td>13.00</td>\n",
       "      <td>13.02</td>\n",
       "      <td>7186400</td>\n",
       "      <td>AAL</td>\n",
       "      <td>2013</td>\n",
       "      <td>2</td>\n",
       "      <td>9</td>\n",
       "      <td>25</td>\n",
       "      <td>Monday</td>\n",
       "    </tr>\n",
       "    <tr>\n",
       "      <th>11</th>\n",
       "      <td>2013-02-26</td>\n",
       "      <td>13.14</td>\n",
       "      <td>13.42</td>\n",
       "      <td>12.70</td>\n",
       "      <td>13.26</td>\n",
       "      <td>9419000</td>\n",
       "      <td>AAL</td>\n",
       "      <td>2013</td>\n",
       "      <td>2</td>\n",
       "      <td>9</td>\n",
       "      <td>26</td>\n",
       "      <td>Tuesday</td>\n",
       "    </tr>\n",
       "    <tr>\n",
       "      <th>12</th>\n",
       "      <td>2013-02-27</td>\n",
       "      <td>13.28</td>\n",
       "      <td>13.62</td>\n",
       "      <td>13.18</td>\n",
       "      <td>13.41</td>\n",
       "      <td>7390500</td>\n",
       "      <td>AAL</td>\n",
       "      <td>2013</td>\n",
       "      <td>2</td>\n",
       "      <td>9</td>\n",
       "      <td>27</td>\n",
       "      <td>Wednesday</td>\n",
       "    </tr>\n",
       "    <tr>\n",
       "      <th>13</th>\n",
       "      <td>2013-02-28</td>\n",
       "      <td>13.49</td>\n",
       "      <td>13.63</td>\n",
       "      <td>13.39</td>\n",
       "      <td>13.43</td>\n",
       "      <td>6143600</td>\n",
       "      <td>AAL</td>\n",
       "      <td>2013</td>\n",
       "      <td>2</td>\n",
       "      <td>9</td>\n",
       "      <td>28</td>\n",
       "      <td>Thursday</td>\n",
       "    </tr>\n",
       "    <tr>\n",
       "      <th>14</th>\n",
       "      <td>2013-03-01</td>\n",
       "      <td>13.37</td>\n",
       "      <td>13.95</td>\n",
       "      <td>13.32</td>\n",
       "      <td>13.61</td>\n",
       "      <td>7376800</td>\n",
       "      <td>AAL</td>\n",
       "      <td>2013</td>\n",
       "      <td>3</td>\n",
       "      <td>9</td>\n",
       "      <td>1</td>\n",
       "      <td>Friday</td>\n",
       "    </tr>\n",
       "    <tr>\n",
       "      <th>15</th>\n",
       "      <td>2013-03-04</td>\n",
       "      <td>13.50</td>\n",
       "      <td>14.07</td>\n",
       "      <td>13.47</td>\n",
       "      <td>13.90</td>\n",
       "      <td>8174800</td>\n",
       "      <td>AAL</td>\n",
       "      <td>2013</td>\n",
       "      <td>3</td>\n",
       "      <td>10</td>\n",
       "      <td>4</td>\n",
       "      <td>Monday</td>\n",
       "    </tr>\n",
       "    <tr>\n",
       "      <th>16</th>\n",
       "      <td>2013-03-05</td>\n",
       "      <td>14.01</td>\n",
       "      <td>14.05</td>\n",
       "      <td>13.71</td>\n",
       "      <td>14.05</td>\n",
       "      <td>7676100</td>\n",
       "      <td>AAL</td>\n",
       "      <td>2013</td>\n",
       "      <td>3</td>\n",
       "      <td>10</td>\n",
       "      <td>5</td>\n",
       "      <td>Tuesday</td>\n",
       "    </tr>\n",
       "    <tr>\n",
       "      <th>17</th>\n",
       "      <td>2013-03-06</td>\n",
       "      <td>14.52</td>\n",
       "      <td>14.68</td>\n",
       "      <td>14.25</td>\n",
       "      <td>14.57</td>\n",
       "      <td>13243200</td>\n",
       "      <td>AAL</td>\n",
       "      <td>2013</td>\n",
       "      <td>3</td>\n",
       "      <td>10</td>\n",
       "      <td>6</td>\n",
       "      <td>Wednesday</td>\n",
       "    </tr>\n",
       "    <tr>\n",
       "      <th>18</th>\n",
       "      <td>2013-03-07</td>\n",
       "      <td>14.70</td>\n",
       "      <td>14.93</td>\n",
       "      <td>14.50</td>\n",
       "      <td>14.82</td>\n",
       "      <td>9125300</td>\n",
       "      <td>AAL</td>\n",
       "      <td>2013</td>\n",
       "      <td>3</td>\n",
       "      <td>10</td>\n",
       "      <td>7</td>\n",
       "      <td>Thursday</td>\n",
       "    </tr>\n",
       "    <tr>\n",
       "      <th>19</th>\n",
       "      <td>2013-03-08</td>\n",
       "      <td>14.99</td>\n",
       "      <td>15.20</td>\n",
       "      <td>14.84</td>\n",
       "      <td>14.92</td>\n",
       "      <td>10593700</td>\n",
       "      <td>AAL</td>\n",
       "      <td>2013</td>\n",
       "      <td>3</td>\n",
       "      <td>10</td>\n",
       "      <td>8</td>\n",
       "      <td>Friday</td>\n",
       "    </tr>\n",
       "  </tbody>\n",
       "</table>\n",
       "</div>"
      ],
      "text/plain": [
       "         date   open   high    low  close    volume name  year  month  week  \\\n",
       "0  2013-02-08  15.07  15.12  14.63  14.75   8407500  AAL  2013      2     6   \n",
       "1  2013-02-11  14.89  15.01  14.26  14.46   8882000  AAL  2013      2     7   \n",
       "2  2013-02-12  14.45  14.51  14.10  14.27   8126000  AAL  2013      2     7   \n",
       "3  2013-02-13  14.30  14.94  14.25  14.66  10259500  AAL  2013      2     7   \n",
       "4  2013-02-14  14.94  14.96  13.16  13.99  31879900  AAL  2013      2     7   \n",
       "5  2013-02-15  13.93  14.61  13.93  14.50  15628000  AAL  2013      2     7   \n",
       "6  2013-02-19  14.33  14.56  14.08  14.26  11354400  AAL  2013      2     8   \n",
       "7  2013-02-20  14.17  14.26  13.15  13.33  14725200  AAL  2013      2     8   \n",
       "8  2013-02-21  13.62  13.95  12.90  13.37  11922100  AAL  2013      2     8   \n",
       "9  2013-02-22  13.57  13.60  13.21  13.57   6071400  AAL  2013      2     8   \n",
       "10 2013-02-25  13.60  13.76  13.00  13.02   7186400  AAL  2013      2     9   \n",
       "11 2013-02-26  13.14  13.42  12.70  13.26   9419000  AAL  2013      2     9   \n",
       "12 2013-02-27  13.28  13.62  13.18  13.41   7390500  AAL  2013      2     9   \n",
       "13 2013-02-28  13.49  13.63  13.39  13.43   6143600  AAL  2013      2     9   \n",
       "14 2013-03-01  13.37  13.95  13.32  13.61   7376800  AAL  2013      3     9   \n",
       "15 2013-03-04  13.50  14.07  13.47  13.90   8174800  AAL  2013      3    10   \n",
       "16 2013-03-05  14.01  14.05  13.71  14.05   7676100  AAL  2013      3    10   \n",
       "17 2013-03-06  14.52  14.68  14.25  14.57  13243200  AAL  2013      3    10   \n",
       "18 2013-03-07  14.70  14.93  14.50  14.82   9125300  AAL  2013      3    10   \n",
       "19 2013-03-08  14.99  15.20  14.84  14.92  10593700  AAL  2013      3    10   \n",
       "\n",
       "    day   week_day  \n",
       "0     8     Friday  \n",
       "1    11     Monday  \n",
       "2    12    Tuesday  \n",
       "3    13  Wednesday  \n",
       "4    14   Thursday  \n",
       "5    15     Friday  \n",
       "6    19    Tuesday  \n",
       "7    20  Wednesday  \n",
       "8    21   Thursday  \n",
       "9    22     Friday  \n",
       "10   25     Monday  \n",
       "11   26    Tuesday  \n",
       "12   27  Wednesday  \n",
       "13   28   Thursday  \n",
       "14    1     Friday  \n",
       "15    4     Monday  \n",
       "16    5    Tuesday  \n",
       "17    6  Wednesday  \n",
       "18    7   Thursday  \n",
       "19    8     Friday  "
      ]
     },
     "execution_count": 83,
     "metadata": {},
     "output_type": "execute_result"
    }
   ],
   "source": [
    "stock_data.head(20)"
   ]
  },
  {
   "cell_type": "markdown",
   "id": "5e872976",
   "metadata": {},
   "source": [
    "# <font color=green>----------------------------------------------------------------------------------------------------</font>"
   ]
  },
  {
   "cell_type": "markdown",
   "id": "a92d271e",
   "metadata": {},
   "source": [
    "# Cleaning & wrangling"
   ]
  },
  {
   "cell_type": "code",
   "execution_count": 5,
   "id": "2939e58f",
   "metadata": {},
   "outputs": [
    {
     "data": {
      "text/plain": [
       "date       object\n",
       "open      float64\n",
       "high      float64\n",
       "low       float64\n",
       "close     float64\n",
       "volume      int64\n",
       "Name       object\n",
       "dtype: object"
      ]
     },
     "execution_count": 5,
     "metadata": {},
     "output_type": "execute_result"
    }
   ],
   "source": [
    "stock_data.dtypes"
   ]
  },
  {
   "cell_type": "code",
   "execution_count": 6,
   "id": "c22e602f",
   "metadata": {},
   "outputs": [],
   "source": [
    "stock_data['date']= pd.to_datetime(stock_data['date'], errors='coerce')"
   ]
  },
  {
   "cell_type": "code",
   "execution_count": 7,
   "id": "d6331d9d",
   "metadata": {},
   "outputs": [
    {
     "data": {
      "text/plain": [
       "date      datetime64[ns]\n",
       "open             float64\n",
       "high             float64\n",
       "low              float64\n",
       "close            float64\n",
       "volume             int64\n",
       "Name              object\n",
       "dtype: object"
      ]
     },
     "execution_count": 7,
     "metadata": {},
     "output_type": "execute_result"
    }
   ],
   "source": [
    "stock_data.dtypes"
   ]
  },
  {
   "cell_type": "code",
   "execution_count": 8,
   "id": "3383f839",
   "metadata": {},
   "outputs": [],
   "source": [
    "stock_data.columns = stock_data.columns.str.lower()"
   ]
  },
  {
   "cell_type": "code",
   "execution_count": 9,
   "id": "a9debd66",
   "metadata": {},
   "outputs": [
    {
     "data": {
      "text/html": [
       "<div>\n",
       "<style scoped>\n",
       "    .dataframe tbody tr th:only-of-type {\n",
       "        vertical-align: middle;\n",
       "    }\n",
       "\n",
       "    .dataframe tbody tr th {\n",
       "        vertical-align: top;\n",
       "    }\n",
       "\n",
       "    .dataframe thead th {\n",
       "        text-align: right;\n",
       "    }\n",
       "</style>\n",
       "<table border=\"1\" class=\"dataframe\">\n",
       "  <thead>\n",
       "    <tr style=\"text-align: right;\">\n",
       "      <th></th>\n",
       "      <th>date</th>\n",
       "      <th>open</th>\n",
       "      <th>high</th>\n",
       "      <th>low</th>\n",
       "      <th>close</th>\n",
       "      <th>volume</th>\n",
       "      <th>name</th>\n",
       "    </tr>\n",
       "  </thead>\n",
       "  <tbody>\n",
       "    <tr>\n",
       "      <th>0</th>\n",
       "      <td>2013-02-08</td>\n",
       "      <td>15.07</td>\n",
       "      <td>15.12</td>\n",
       "      <td>14.63</td>\n",
       "      <td>14.75</td>\n",
       "      <td>8407500</td>\n",
       "      <td>AAL</td>\n",
       "    </tr>\n",
       "    <tr>\n",
       "      <th>1</th>\n",
       "      <td>2013-02-11</td>\n",
       "      <td>14.89</td>\n",
       "      <td>15.01</td>\n",
       "      <td>14.26</td>\n",
       "      <td>14.46</td>\n",
       "      <td>8882000</td>\n",
       "      <td>AAL</td>\n",
       "    </tr>\n",
       "    <tr>\n",
       "      <th>2</th>\n",
       "      <td>2013-02-12</td>\n",
       "      <td>14.45</td>\n",
       "      <td>14.51</td>\n",
       "      <td>14.10</td>\n",
       "      <td>14.27</td>\n",
       "      <td>8126000</td>\n",
       "      <td>AAL</td>\n",
       "    </tr>\n",
       "    <tr>\n",
       "      <th>3</th>\n",
       "      <td>2013-02-13</td>\n",
       "      <td>14.30</td>\n",
       "      <td>14.94</td>\n",
       "      <td>14.25</td>\n",
       "      <td>14.66</td>\n",
       "      <td>10259500</td>\n",
       "      <td>AAL</td>\n",
       "    </tr>\n",
       "    <tr>\n",
       "      <th>4</th>\n",
       "      <td>2013-02-14</td>\n",
       "      <td>14.94</td>\n",
       "      <td>14.96</td>\n",
       "      <td>13.16</td>\n",
       "      <td>13.99</td>\n",
       "      <td>31879900</td>\n",
       "      <td>AAL</td>\n",
       "    </tr>\n",
       "  </tbody>\n",
       "</table>\n",
       "</div>"
      ],
      "text/plain": [
       "        date   open   high    low  close    volume name\n",
       "0 2013-02-08  15.07  15.12  14.63  14.75   8407500  AAL\n",
       "1 2013-02-11  14.89  15.01  14.26  14.46   8882000  AAL\n",
       "2 2013-02-12  14.45  14.51  14.10  14.27   8126000  AAL\n",
       "3 2013-02-13  14.30  14.94  14.25  14.66  10259500  AAL\n",
       "4 2013-02-14  14.94  14.96  13.16  13.99  31879900  AAL"
      ]
     },
     "execution_count": 9,
     "metadata": {},
     "output_type": "execute_result"
    }
   ],
   "source": [
    "stock_data.head()"
   ]
  },
  {
   "cell_type": "code",
   "execution_count": 10,
   "id": "3c9b28a8",
   "metadata": {},
   "outputs": [
    {
     "name": "stdout",
     "output_type": "stream",
     "text": [
      "<class 'pandas.core.frame.DataFrame'>\n",
      "RangeIndex: 619040 entries, 0 to 619039\n",
      "Data columns (total 7 columns):\n",
      " #   Column  Non-Null Count   Dtype         \n",
      "---  ------  --------------   -----         \n",
      " 0   date    619040 non-null  datetime64[ns]\n",
      " 1   open    619029 non-null  float64       \n",
      " 2   high    619032 non-null  float64       \n",
      " 3   low     619032 non-null  float64       \n",
      " 4   close   619040 non-null  float64       \n",
      " 5   volume  619040 non-null  int64         \n",
      " 6   name    619040 non-null  object        \n",
      "dtypes: datetime64[ns](1), float64(4), int64(1), object(1)\n",
      "memory usage: 33.1+ MB\n"
     ]
    }
   ],
   "source": [
    "stock_data.info()"
   ]
  },
  {
   "cell_type": "code",
   "execution_count": 11,
   "id": "76c0d85d",
   "metadata": {},
   "outputs": [],
   "source": [
    "stock_data=stock_data.dropna()"
   ]
  },
  {
   "cell_type": "code",
   "execution_count": 12,
   "id": "e6d0e65c",
   "metadata": {},
   "outputs": [
    {
     "name": "stdout",
     "output_type": "stream",
     "text": [
      "<class 'pandas.core.frame.DataFrame'>\n",
      "Int64Index: 619029 entries, 0 to 619039\n",
      "Data columns (total 7 columns):\n",
      " #   Column  Non-Null Count   Dtype         \n",
      "---  ------  --------------   -----         \n",
      " 0   date    619029 non-null  datetime64[ns]\n",
      " 1   open    619029 non-null  float64       \n",
      " 2   high    619029 non-null  float64       \n",
      " 3   low     619029 non-null  float64       \n",
      " 4   close   619029 non-null  float64       \n",
      " 5   volume  619029 non-null  int64         \n",
      " 6   name    619029 non-null  object        \n",
      "dtypes: datetime64[ns](1), float64(4), int64(1), object(1)\n",
      "memory usage: 37.8+ MB\n"
     ]
    }
   ],
   "source": [
    "stock_data.info()"
   ]
  },
  {
   "cell_type": "code",
   "execution_count": 13,
   "id": "deda0e47",
   "metadata": {},
   "outputs": [],
   "source": [
    "stock_data['year']=pd.DatetimeIndex(stock_data['date']).year"
   ]
  },
  {
   "cell_type": "code",
   "execution_count": 14,
   "id": "d7142c07",
   "metadata": {},
   "outputs": [
    {
     "data": {
      "text/html": [
       "<div>\n",
       "<style scoped>\n",
       "    .dataframe tbody tr th:only-of-type {\n",
       "        vertical-align: middle;\n",
       "    }\n",
       "\n",
       "    .dataframe tbody tr th {\n",
       "        vertical-align: top;\n",
       "    }\n",
       "\n",
       "    .dataframe thead th {\n",
       "        text-align: right;\n",
       "    }\n",
       "</style>\n",
       "<table border=\"1\" class=\"dataframe\">\n",
       "  <thead>\n",
       "    <tr style=\"text-align: right;\">\n",
       "      <th></th>\n",
       "      <th>date</th>\n",
       "      <th>open</th>\n",
       "      <th>high</th>\n",
       "      <th>low</th>\n",
       "      <th>close</th>\n",
       "      <th>volume</th>\n",
       "      <th>name</th>\n",
       "      <th>year</th>\n",
       "    </tr>\n",
       "  </thead>\n",
       "  <tbody>\n",
       "    <tr>\n",
       "      <th>0</th>\n",
       "      <td>2013-02-08</td>\n",
       "      <td>15.07</td>\n",
       "      <td>15.12</td>\n",
       "      <td>14.63</td>\n",
       "      <td>14.75</td>\n",
       "      <td>8407500</td>\n",
       "      <td>AAL</td>\n",
       "      <td>2013</td>\n",
       "    </tr>\n",
       "    <tr>\n",
       "      <th>1</th>\n",
       "      <td>2013-02-11</td>\n",
       "      <td>14.89</td>\n",
       "      <td>15.01</td>\n",
       "      <td>14.26</td>\n",
       "      <td>14.46</td>\n",
       "      <td>8882000</td>\n",
       "      <td>AAL</td>\n",
       "      <td>2013</td>\n",
       "    </tr>\n",
       "    <tr>\n",
       "      <th>2</th>\n",
       "      <td>2013-02-12</td>\n",
       "      <td>14.45</td>\n",
       "      <td>14.51</td>\n",
       "      <td>14.10</td>\n",
       "      <td>14.27</td>\n",
       "      <td>8126000</td>\n",
       "      <td>AAL</td>\n",
       "      <td>2013</td>\n",
       "    </tr>\n",
       "    <tr>\n",
       "      <th>3</th>\n",
       "      <td>2013-02-13</td>\n",
       "      <td>14.30</td>\n",
       "      <td>14.94</td>\n",
       "      <td>14.25</td>\n",
       "      <td>14.66</td>\n",
       "      <td>10259500</td>\n",
       "      <td>AAL</td>\n",
       "      <td>2013</td>\n",
       "    </tr>\n",
       "    <tr>\n",
       "      <th>4</th>\n",
       "      <td>2013-02-14</td>\n",
       "      <td>14.94</td>\n",
       "      <td>14.96</td>\n",
       "      <td>13.16</td>\n",
       "      <td>13.99</td>\n",
       "      <td>31879900</td>\n",
       "      <td>AAL</td>\n",
       "      <td>2013</td>\n",
       "    </tr>\n",
       "  </tbody>\n",
       "</table>\n",
       "</div>"
      ],
      "text/plain": [
       "        date   open   high    low  close    volume name  year\n",
       "0 2013-02-08  15.07  15.12  14.63  14.75   8407500  AAL  2013\n",
       "1 2013-02-11  14.89  15.01  14.26  14.46   8882000  AAL  2013\n",
       "2 2013-02-12  14.45  14.51  14.10  14.27   8126000  AAL  2013\n",
       "3 2013-02-13  14.30  14.94  14.25  14.66  10259500  AAL  2013\n",
       "4 2013-02-14  14.94  14.96  13.16  13.99  31879900  AAL  2013"
      ]
     },
     "execution_count": 14,
     "metadata": {},
     "output_type": "execute_result"
    }
   ],
   "source": [
    "stock_data.head()"
   ]
  },
  {
   "cell_type": "markdown",
   "id": "c609f959",
   "metadata": {},
   "source": [
    "# <font color=green>----------------------------------------------------------------------------------------------------</font>"
   ]
  },
  {
   "cell_type": "markdown",
   "id": "1e465f5d",
   "metadata": {},
   "source": [
    "# EDA"
   ]
  },
  {
   "cell_type": "code",
   "execution_count": 15,
   "id": "48176d13",
   "metadata": {},
   "outputs": [
    {
     "data": {
      "text/html": [
       "<div>\n",
       "<style scoped>\n",
       "    .dataframe tbody tr th:only-of-type {\n",
       "        vertical-align: middle;\n",
       "    }\n",
       "\n",
       "    .dataframe tbody tr th {\n",
       "        vertical-align: top;\n",
       "    }\n",
       "\n",
       "    .dataframe thead th {\n",
       "        text-align: right;\n",
       "    }\n",
       "</style>\n",
       "<table border=\"1\" class=\"dataframe\">\n",
       "  <thead>\n",
       "    <tr style=\"text-align: right;\">\n",
       "      <th></th>\n",
       "      <th>open</th>\n",
       "      <th>high</th>\n",
       "      <th>low</th>\n",
       "      <th>close</th>\n",
       "      <th>volume</th>\n",
       "      <th>year</th>\n",
       "    </tr>\n",
       "  </thead>\n",
       "  <tbody>\n",
       "    <tr>\n",
       "      <th>count</th>\n",
       "      <td>619029.000000</td>\n",
       "      <td>619029.000000</td>\n",
       "      <td>619029.000000</td>\n",
       "      <td>619029.000000</td>\n",
       "      <td>6.190290e+05</td>\n",
       "      <td>619029.000000</td>\n",
       "    </tr>\n",
       "    <tr>\n",
       "      <th>mean</th>\n",
       "      <td>83.023334</td>\n",
       "      <td>83.778419</td>\n",
       "      <td>82.256200</td>\n",
       "      <td>83.043305</td>\n",
       "      <td>4.321892e+06</td>\n",
       "      <td>2015.125194</td>\n",
       "    </tr>\n",
       "    <tr>\n",
       "      <th>std</th>\n",
       "      <td>97.378769</td>\n",
       "      <td>98.207735</td>\n",
       "      <td>96.507634</td>\n",
       "      <td>97.388913</td>\n",
       "      <td>8.693671e+06</td>\n",
       "      <td>1.445846</td>\n",
       "    </tr>\n",
       "    <tr>\n",
       "      <th>min</th>\n",
       "      <td>1.620000</td>\n",
       "      <td>1.690000</td>\n",
       "      <td>1.500000</td>\n",
       "      <td>1.590000</td>\n",
       "      <td>1.010000e+02</td>\n",
       "      <td>2013.000000</td>\n",
       "    </tr>\n",
       "    <tr>\n",
       "      <th>25%</th>\n",
       "      <td>40.220000</td>\n",
       "      <td>40.620000</td>\n",
       "      <td>39.830000</td>\n",
       "      <td>40.240800</td>\n",
       "      <td>1.070351e+06</td>\n",
       "      <td>2014.000000</td>\n",
       "    </tr>\n",
       "    <tr>\n",
       "      <th>50%</th>\n",
       "      <td>62.590000</td>\n",
       "      <td>63.150000</td>\n",
       "      <td>62.020000</td>\n",
       "      <td>62.620000</td>\n",
       "      <td>2.082165e+06</td>\n",
       "      <td>2015.000000</td>\n",
       "    </tr>\n",
       "    <tr>\n",
       "      <th>75%</th>\n",
       "      <td>94.370000</td>\n",
       "      <td>95.180000</td>\n",
       "      <td>93.540000</td>\n",
       "      <td>94.410000</td>\n",
       "      <td>4.284550e+06</td>\n",
       "      <td>2016.000000</td>\n",
       "    </tr>\n",
       "    <tr>\n",
       "      <th>max</th>\n",
       "      <td>2044.000000</td>\n",
       "      <td>2067.990000</td>\n",
       "      <td>2035.110000</td>\n",
       "      <td>2049.000000</td>\n",
       "      <td>6.182376e+08</td>\n",
       "      <td>2018.000000</td>\n",
       "    </tr>\n",
       "  </tbody>\n",
       "</table>\n",
       "</div>"
      ],
      "text/plain": [
       "                open           high            low          close  \\\n",
       "count  619029.000000  619029.000000  619029.000000  619029.000000   \n",
       "mean       83.023334      83.778419      82.256200      83.043305   \n",
       "std        97.378769      98.207735      96.507634      97.388913   \n",
       "min         1.620000       1.690000       1.500000       1.590000   \n",
       "25%        40.220000      40.620000      39.830000      40.240800   \n",
       "50%        62.590000      63.150000      62.020000      62.620000   \n",
       "75%        94.370000      95.180000      93.540000      94.410000   \n",
       "max      2044.000000    2067.990000    2035.110000    2049.000000   \n",
       "\n",
       "             volume           year  \n",
       "count  6.190290e+05  619029.000000  \n",
       "mean   4.321892e+06    2015.125194  \n",
       "std    8.693671e+06       1.445846  \n",
       "min    1.010000e+02    2013.000000  \n",
       "25%    1.070351e+06    2014.000000  \n",
       "50%    2.082165e+06    2015.000000  \n",
       "75%    4.284550e+06    2016.000000  \n",
       "max    6.182376e+08    2018.000000  "
      ]
     },
     "execution_count": 15,
     "metadata": {},
     "output_type": "execute_result"
    }
   ],
   "source": [
    "stock_data.describe()"
   ]
  },
  {
   "cell_type": "code",
   "execution_count": 16,
   "id": "8a45e3fa",
   "metadata": {},
   "outputs": [
    {
     "data": {
      "text/html": [
       "<div>\n",
       "<style scoped>\n",
       "    .dataframe tbody tr th:only-of-type {\n",
       "        vertical-align: middle;\n",
       "    }\n",
       "\n",
       "    .dataframe tbody tr th {\n",
       "        vertical-align: top;\n",
       "    }\n",
       "\n",
       "    .dataframe thead th {\n",
       "        text-align: right;\n",
       "    }\n",
       "</style>\n",
       "<table border=\"1\" class=\"dataframe\">\n",
       "  <thead>\n",
       "    <tr style=\"text-align: right;\">\n",
       "      <th></th>\n",
       "      <th>name</th>\n",
       "    </tr>\n",
       "  </thead>\n",
       "  <tbody>\n",
       "    <tr>\n",
       "      <th>count</th>\n",
       "      <td>619029</td>\n",
       "    </tr>\n",
       "    <tr>\n",
       "      <th>unique</th>\n",
       "      <td>505</td>\n",
       "    </tr>\n",
       "    <tr>\n",
       "      <th>top</th>\n",
       "      <td>MHK</td>\n",
       "    </tr>\n",
       "    <tr>\n",
       "      <th>freq</th>\n",
       "      <td>1259</td>\n",
       "    </tr>\n",
       "  </tbody>\n",
       "</table>\n",
       "</div>"
      ],
      "text/plain": [
       "          name\n",
       "count   619029\n",
       "unique     505\n",
       "top        MHK\n",
       "freq      1259"
      ]
     },
     "execution_count": 16,
     "metadata": {},
     "output_type": "execute_result"
    }
   ],
   "source": [
    "stock_data.describe(include=[object])"
   ]
  },
  {
   "cell_type": "code",
   "execution_count": 17,
   "id": "f38fcc3d",
   "metadata": {},
   "outputs": [
    {
     "data": {
      "text/plain": [
       "83.04330497876393"
      ]
     },
     "execution_count": 17,
     "metadata": {},
     "output_type": "execute_result"
    }
   ],
   "source": [
    "stock_data[\"close\"].mean()"
   ]
  },
  {
   "cell_type": "code",
   "execution_count": 18,
   "id": "769b60f2",
   "metadata": {},
   "outputs": [
    {
     "data": {
      "text/plain": [
       "97.38891315526988"
      ]
     },
     "execution_count": 18,
     "metadata": {},
     "output_type": "execute_result"
    }
   ],
   "source": [
    "stock_data[\"close\"].std()"
   ]
  },
  {
   "cell_type": "code",
   "execution_count": 19,
   "id": "e40d4b98",
   "metadata": {},
   "outputs": [
    {
     "name": "stderr",
     "output_type": "stream",
     "text": [
      "C:\\Users\\toshiba\\anaconda3\\lib\\site-packages\\seaborn\\distributions.py:2557: FutureWarning: `distplot` is a deprecated function and will be removed in a future version. Please adapt your code to use either `displot` (a figure-level function with similar flexibility) or `histplot` (an axes-level function for histograms).\n",
      "  warnings.warn(msg, FutureWarning)\n"
     ]
    },
    {
     "data": {
      "text/plain": [
       "<AxesSubplot:xlabel='close', ylabel='Density'>"
      ]
     },
     "execution_count": 19,
     "metadata": {},
     "output_type": "execute_result"
    },
    {
     "data": {
      "image/png": "[encoded data removed]",
      "text/plain": [
       "<Figure size 432x288 with 1 Axes>"
      ]
     },
     "metadata": {
      "needs_background": "light"
     },
     "output_type": "display_data"
    }
   ],
   "source": [
    "sns.distplot(stock_data['close'])"
   ]
  },
  {
   "cell_type": "markdown",
   "id": "5d0c90dd",
   "metadata": {},
   "source": [
    "# <font color=green>----------------------------------------------------------------------------------------------------</font>"
   ]
  },
  {
   "cell_type": "markdown",
   "id": "050460c7",
   "metadata": {},
   "source": [
    "# Answering question one: Could you show us how the median `close` stock price changed year over year?"
   ]
  },
  {
   "cell_type": "code",
   "execution_count": 20,
   "id": "bf884384",
   "metadata": {},
   "outputs": [
    {
     "data": {
      "text/plain": [
       "year\n",
       "2013    51.30\n",
       "2014    59.46\n",
       "2015    64.35\n",
       "2016    64.90\n",
       "2017    72.37\n",
       "2018    78.71\n",
       "Name: close, dtype: float64"
      ]
     },
     "execution_count": 20,
     "metadata": {},
     "output_type": "execute_result"
    }
   ],
   "source": [
    "stock_data.groupby('year')['close'].median()"
   ]
  },
  {
   "cell_type": "markdown",
   "id": "ce8e3b2f",
   "metadata": {},
   "source": [
    "#### And here's the visualisation in Matplotlib:"
   ]
  },
  {
   "cell_type": "code",
   "execution_count": 21,
   "id": "57aaa89f",
   "metadata": {},
   "outputs": [],
   "source": [
    "plot_avg_year=stock_data.groupby('year')['close'].median().sort_values()"
   ]
  },
  {
   "cell_type": "code",
   "execution_count": 130,
   "id": "8a124c3f",
   "metadata": {},
   "outputs": [
    {
     "data": {
      "image/png": "[encoded data removed]",
      "text/plain": [
       "<Figure size 648x432 with 1 Axes>"
      ]
     },
     "metadata": {
      "needs_background": "light"
     },
     "output_type": "display_data"
    }
   ],
   "source": [
    "ax=plot_avg_year.plot(x='close', y=['year'], figsize=(9, 6), color='green')"
   ]
  },
  {
   "cell_type": "markdown",
   "id": "885caab9",
   "metadata": {},
   "source": [
    "#### But the following is a better visualisation with a confidence interval using Seaborn:"
   ]
  },
  {
   "cell_type": "code",
   "execution_count": 132,
   "id": "9f083565",
   "metadata": {},
   "outputs": [
    {
     "name": "stderr",
     "output_type": "stream",
     "text": [
      "C:\\Users\\toshiba\\anaconda3\\lib\\site-packages\\seaborn\\_decorators.py:36: FutureWarning: Pass the following variables as keyword args: x, y. From version 0.12, the only valid positional argument will be `data`, and passing other arguments without an explicit keyword will result in an error or misinterpretation.\n",
      "  warnings.warn(\n"
     ]
    },
    {
     "data": {
      "text/plain": [
       "<seaborn.axisgrid.FacetGrid at 0x13203291f70>"
      ]
     },
     "execution_count": 132,
     "metadata": {},
     "output_type": "execute_result"
    },
    {
     "data": {
      "image/png": "[encoded data removed]",
      "text/plain": [
       "<Figure size 360x360 with 1 Axes>"
      ]
     },
     "metadata": {
      "needs_background": "light"
     },
     "output_type": "display_data"
    }
   ],
   "source": [
    "sns.relplot('year', 'close', data=stock_data,kind='line', estimator=np.median)"
   ]
  },
  {
   "cell_type": "markdown",
   "id": "9f082947",
   "metadata": {},
   "source": [
    "#### Obviously the median trendline is strong upward"
   ]
  },
  {
   "cell_type": "code",
   "execution_count": 127,
   "id": "1736ee0e",
   "metadata": {},
   "outputs": [
    {
     "name": "stderr",
     "output_type": "stream",
     "text": [
      "C:\\Users\\toshiba\\anaconda3\\lib\\site-packages\\seaborn\\_decorators.py:36: FutureWarning: Pass the following variables as keyword args: x, y. From version 0.12, the only valid positional argument will be `data`, and passing other arguments without an explicit keyword will result in an error or misinterpretation.\n",
      "  warnings.warn(\n"
     ]
    },
    {
     "data": {
      "text/plain": [
       "<seaborn.axisgrid.JointGrid at 0x132195c04c0>"
      ]
     },
     "execution_count": 127,
     "metadata": {},
     "output_type": "execute_result"
    },
    {
     "data": {
      "image/png": "[encoded data removed]",
      "text/plain": [
       "<Figure size 432x432 with 3 Axes>"
      ]
     },
     "metadata": {
      "needs_background": "light"
     },
     "output_type": "display_data"
    }
   ],
   "source": [
    "sns.jointplot(stock_data['date'], stock_data['close'], estimator=np.median)"
   ]
  },
  {
   "cell_type": "code",
   "execution_count": 24,
   "id": "b159ce72",
   "metadata": {},
   "outputs": [],
   "source": [
    "groupby_year = stock_data.groupby('year', axis=0)"
   ]
  },
  {
   "cell_type": "code",
   "execution_count": 25,
   "id": "c2c69a60",
   "metadata": {},
   "outputs": [
    {
     "data": {
      "text/html": [
       "<div>\n",
       "<style scoped>\n",
       "    .dataframe tbody tr th:only-of-type {\n",
       "        vertical-align: middle;\n",
       "    }\n",
       "\n",
       "    .dataframe tbody tr th {\n",
       "        vertical-align: top;\n",
       "    }\n",
       "\n",
       "    .dataframe thead th {\n",
       "        text-align: right;\n",
       "    }\n",
       "</style>\n",
       "<table border=\"1\" class=\"dataframe\">\n",
       "  <thead>\n",
       "    <tr style=\"text-align: right;\">\n",
       "      <th></th>\n",
       "      <th>open</th>\n",
       "      <th>high</th>\n",
       "      <th>low</th>\n",
       "      <th>close</th>\n",
       "      <th>volume</th>\n",
       "    </tr>\n",
       "    <tr>\n",
       "      <th>year</th>\n",
       "      <th></th>\n",
       "      <th></th>\n",
       "      <th></th>\n",
       "      <th></th>\n",
       "      <th></th>\n",
       "    </tr>\n",
       "  </thead>\n",
       "  <tbody>\n",
       "    <tr>\n",
       "      <th>2013</th>\n",
       "      <td>64.333983</td>\n",
       "      <td>64.913807</td>\n",
       "      <td>63.768605</td>\n",
       "      <td>64.368619</td>\n",
       "      <td>4.573753e+06</td>\n",
       "    </tr>\n",
       "    <tr>\n",
       "      <th>2014</th>\n",
       "      <td>76.965995</td>\n",
       "      <td>77.647126</td>\n",
       "      <td>76.267191</td>\n",
       "      <td>76.969836</td>\n",
       "      <td>4.163922e+06</td>\n",
       "    </tr>\n",
       "    <tr>\n",
       "      <th>2015</th>\n",
       "      <td>84.133849</td>\n",
       "      <td>84.951007</td>\n",
       "      <td>83.276098</td>\n",
       "      <td>84.131558</td>\n",
       "      <td>4.324119e+06</td>\n",
       "    </tr>\n",
       "    <tr>\n",
       "      <th>2016</th>\n",
       "      <td>85.214264</td>\n",
       "      <td>86.057550</td>\n",
       "      <td>84.369887</td>\n",
       "      <td>85.253965</td>\n",
       "      <td>4.556700e+06</td>\n",
       "    </tr>\n",
       "    <tr>\n",
       "      <th>2017</th>\n",
       "      <td>98.777123</td>\n",
       "      <td>99.555482</td>\n",
       "      <td>97.981006</td>\n",
       "      <td>98.800548</td>\n",
       "      <td>3.970454e+06</td>\n",
       "    </tr>\n",
       "    <tr>\n",
       "      <th>2018</th>\n",
       "      <td>111.250128</td>\n",
       "      <td>112.491921</td>\n",
       "      <td>110.048988</td>\n",
       "      <td>111.287631</td>\n",
       "      <td>4.825638e+06</td>\n",
       "    </tr>\n",
       "  </tbody>\n",
       "</table>\n",
       "</div>"
      ],
      "text/plain": [
       "            open        high         low       close        volume\n",
       "year                                                              \n",
       "2013   64.333983   64.913807   63.768605   64.368619  4.573753e+06\n",
       "2014   76.965995   77.647126   76.267191   76.969836  4.163922e+06\n",
       "2015   84.133849   84.951007   83.276098   84.131558  4.324119e+06\n",
       "2016   85.214264   86.057550   84.369887   85.253965  4.556700e+06\n",
       "2017   98.777123   99.555482   97.981006   98.800548  3.970454e+06\n",
       "2018  111.250128  112.491921  110.048988  111.287631  4.825638e+06"
      ]
     },
     "execution_count": 25,
     "metadata": {},
     "output_type": "execute_result"
    }
   ],
   "source": [
    "groupby_year.mean()"
   ]
  },
  {
   "cell_type": "markdown",
   "id": "219222d8",
   "metadata": {},
   "source": [
    "# <font color=green>----------------------------------------------------------------------------------------------------</font>"
   ]
  },
  {
   "cell_type": "markdown",
   "id": "9c59be2b",
   "metadata": {},
   "source": [
    "# Answering question two: How did the volatility of this stock index changed year over year?"
   ]
  },
  {
   "cell_type": "code",
   "execution_count": 26,
   "id": "708f9d70",
   "metadata": {},
   "outputs": [
    {
     "data": {
      "text/plain": [
       "year\n",
       "2013     62.964690\n",
       "2014     82.186603\n",
       "2015     92.836264\n",
       "2016    100.405493\n",
       "2017    123.898963\n",
       "2018    142.193646\n",
       "Name: close, dtype: float64"
      ]
     },
     "execution_count": 26,
     "metadata": {},
     "output_type": "execute_result"
    }
   ],
   "source": [
    "stock_data.groupby('year')['close'].std()"
   ]
  },
  {
   "cell_type": "code",
   "execution_count": 128,
   "id": "0c6546cc",
   "metadata": {},
   "outputs": [
    {
     "name": "stderr",
     "output_type": "stream",
     "text": [
      "C:\\Users\\toshiba\\anaconda3\\lib\\site-packages\\seaborn\\_decorators.py:36: FutureWarning: Pass the following variables as keyword args: x, y. From version 0.12, the only valid positional argument will be `data`, and passing other arguments without an explicit keyword will result in an error or misinterpretation.\n",
      "  warnings.warn(\n"
     ]
    },
    {
     "data": {
      "text/plain": [
       "<seaborn.axisgrid.FacetGrid at 0x132024ac400>"
      ]
     },
     "execution_count": 128,
     "metadata": {},
     "output_type": "execute_result"
    },
    {
     "data": {
      "image/png": "[encoded data removed]",
      "text/plain": [
       "<Figure size 360x360 with 1 Axes>"
      ]
     },
     "metadata": {
      "needs_background": "light"
     },
     "output_type": "display_data"
    }
   ],
   "source": [
    "sns.relplot('year', 'close', data=stock_data,kind='line', estimator='std')"
   ]
  },
  {
   "cell_type": "markdown",
   "id": "0741df4b",
   "metadata": {},
   "source": [
    "#### A strong upward standard deviation trendline has always been higher since 2014 the mean & the median, therefore we can say the increasing volatility in general is evident.\n",
    "\n",
    "#### The chart below (using Tableau) illustrates it better"
   ]
  },
  {
   "attachments": {
    "median_mean_stdev.PNG": {
     "image/png": "[encoded data removed]"
    }
   },
   "cell_type": "markdown",
   "id": "5fff4d46",
   "metadata": {},
   "source": [
    "![median_mean_stdev.PNG](attachment:median_mean_stdev.PNG)"
   ]
  },
  {
   "cell_type": "markdown",
   "id": "e6ee1451",
   "metadata": {},
   "source": [
    "# <font color=green>----------------------------------------------------------------------------------------------------</font>"
   ]
  },
  {
   "cell_type": "markdown",
   "id": "c3efa617",
   "metadata": {},
   "source": [
    "# Answering question 3: Which are the top 5 most volatile stocks in a year in that dataset?"
   ]
  },
  {
   "cell_type": "code",
   "execution_count": 29,
   "id": "b97aa38c",
   "metadata": {},
   "outputs": [],
   "source": [
    "top=stock_data.groupby(['year', 'name'])['close'].std()"
   ]
  },
  {
   "cell_type": "code",
   "execution_count": 30,
   "id": "9184456a",
   "metadata": {},
   "outputs": [
    {
     "data": {
      "text/plain": [
       "year  name\n",
       "2013  A       4.586794\n",
       "      AAL     3.281442\n",
       "      AAP     9.470546\n",
       "      AAPL    6.514463\n",
       "      ABBV    4.022812\n",
       "                ...   \n",
       "2018  XYL     1.992867\n",
       "      YUM     1.790431\n",
       "      ZBH     1.974638\n",
       "      ZION    1.327261\n",
       "      ZTS     2.343205\n",
       "Name: close, Length: 2975, dtype: float64"
      ]
     },
     "execution_count": 30,
     "metadata": {},
     "output_type": "execute_result"
    }
   ],
   "source": [
    "top"
   ]
  },
  {
   "cell_type": "markdown",
   "id": "933464a8",
   "metadata": {},
   "source": [
    "#### Cleaning the name field"
   ]
  },
  {
   "cell_type": "code",
   "execution_count": 31,
   "id": "2a0b67e8",
   "metadata": {},
   "outputs": [],
   "source": [
    "def clean_name(x):\n",
    "    if x in ['GOOGL', 'GOOG']:\n",
    "        return 'GGL'\n",
    "    else: \n",
    "        return x"
   ]
  },
  {
   "cell_type": "code",
   "execution_count": 32,
   "id": "18501f58",
   "metadata": {},
   "outputs": [],
   "source": [
    "stock_data['name']=list(map(clean_name,stock_data['name']))"
   ]
  },
  {
   "cell_type": "code",
   "execution_count": 33,
   "id": "e8075ea7",
   "metadata": {},
   "outputs": [
    {
     "data": {
      "text/html": [
       "<div>\n",
       "<style scoped>\n",
       "    .dataframe tbody tr th:only-of-type {\n",
       "        vertical-align: middle;\n",
       "    }\n",
       "\n",
       "    .dataframe tbody tr th {\n",
       "        vertical-align: top;\n",
       "    }\n",
       "\n",
       "    .dataframe thead th {\n",
       "        text-align: right;\n",
       "    }\n",
       "</style>\n",
       "<table border=\"1\" class=\"dataframe\">\n",
       "  <thead>\n",
       "    <tr style=\"text-align: right;\">\n",
       "      <th></th>\n",
       "      <th>date</th>\n",
       "      <th>open</th>\n",
       "      <th>high</th>\n",
       "      <th>low</th>\n",
       "      <th>close</th>\n",
       "      <th>volume</th>\n",
       "      <th>name</th>\n",
       "      <th>year</th>\n",
       "    </tr>\n",
       "  </thead>\n",
       "  <tbody>\n",
       "    <tr>\n",
       "      <th>250308</th>\n",
       "      <td>2013-02-08</td>\n",
       "      <td>390.4551</td>\n",
       "      <td>393.7283</td>\n",
       "      <td>390.1698</td>\n",
       "      <td>393.0777</td>\n",
       "      <td>6031199</td>\n",
       "      <td>GGL</td>\n",
       "      <td>2013</td>\n",
       "    </tr>\n",
       "    <tr>\n",
       "      <th>250309</th>\n",
       "      <td>2013-02-11</td>\n",
       "      <td>389.5892</td>\n",
       "      <td>391.8915</td>\n",
       "      <td>387.2619</td>\n",
       "      <td>391.6012</td>\n",
       "      <td>4330781</td>\n",
       "      <td>GGL</td>\n",
       "      <td>2013</td>\n",
       "    </tr>\n",
       "    <tr>\n",
       "      <th>250310</th>\n",
       "      <td>2013-02-12</td>\n",
       "      <td>391.2659</td>\n",
       "      <td>394.3440</td>\n",
       "      <td>390.0747</td>\n",
       "      <td>390.7403</td>\n",
       "      <td>3714176</td>\n",
       "      <td>GGL</td>\n",
       "      <td>2013</td>\n",
       "    </tr>\n",
       "    <tr>\n",
       "      <th>250311</th>\n",
       "      <td>2013-02-13</td>\n",
       "      <td>390.4551</td>\n",
       "      <td>393.0677</td>\n",
       "      <td>390.3750</td>\n",
       "      <td>391.8214</td>\n",
       "      <td>2393946</td>\n",
       "      <td>GGL</td>\n",
       "      <td>2013</td>\n",
       "    </tr>\n",
       "    <tr>\n",
       "      <th>250312</th>\n",
       "      <td>2013-02-14</td>\n",
       "      <td>390.2549</td>\n",
       "      <td>394.7644</td>\n",
       "      <td>389.2739</td>\n",
       "      <td>394.3039</td>\n",
       "      <td>3466971</td>\n",
       "      <td>GGL</td>\n",
       "      <td>2013</td>\n",
       "    </tr>\n",
       "    <tr>\n",
       "      <th>...</th>\n",
       "      <td>...</td>\n",
       "      <td>...</td>\n",
       "      <td>...</td>\n",
       "      <td>...</td>\n",
       "      <td>...</td>\n",
       "      <td>...</td>\n",
       "      <td>...</td>\n",
       "      <td>...</td>\n",
       "    </tr>\n",
       "    <tr>\n",
       "      <th>252537</th>\n",
       "      <td>2018-02-01</td>\n",
       "      <td>1162.6100</td>\n",
       "      <td>1174.0000</td>\n",
       "      <td>1157.5200</td>\n",
       "      <td>1167.7000</td>\n",
       "      <td>2412114</td>\n",
       "      <td>GGL</td>\n",
       "      <td>2018</td>\n",
       "    </tr>\n",
       "    <tr>\n",
       "      <th>252538</th>\n",
       "      <td>2018-02-02</td>\n",
       "      <td>1122.0000</td>\n",
       "      <td>1123.0700</td>\n",
       "      <td>1107.2800</td>\n",
       "      <td>1111.9000</td>\n",
       "      <td>4857943</td>\n",
       "      <td>GGL</td>\n",
       "      <td>2018</td>\n",
       "    </tr>\n",
       "    <tr>\n",
       "      <th>252539</th>\n",
       "      <td>2018-02-05</td>\n",
       "      <td>1090.6000</td>\n",
       "      <td>1110.0000</td>\n",
       "      <td>1052.0300</td>\n",
       "      <td>1055.8000</td>\n",
       "      <td>3798301</td>\n",
       "      <td>GGL</td>\n",
       "      <td>2018</td>\n",
       "    </tr>\n",
       "    <tr>\n",
       "      <th>252540</th>\n",
       "      <td>2018-02-06</td>\n",
       "      <td>1027.1800</td>\n",
       "      <td>1081.7100</td>\n",
       "      <td>1023.1400</td>\n",
       "      <td>1080.6000</td>\n",
       "      <td>3447956</td>\n",
       "      <td>GGL</td>\n",
       "      <td>2018</td>\n",
       "    </tr>\n",
       "    <tr>\n",
       "      <th>252541</th>\n",
       "      <td>2018-02-07</td>\n",
       "      <td>1081.5400</td>\n",
       "      <td>1081.7800</td>\n",
       "      <td>1048.2600</td>\n",
       "      <td>1048.5800</td>\n",
       "      <td>2369232</td>\n",
       "      <td>GGL</td>\n",
       "      <td>2018</td>\n",
       "    </tr>\n",
       "  </tbody>\n",
       "</table>\n",
       "<p>2234 rows × 8 columns</p>\n",
       "</div>"
      ],
      "text/plain": [
       "             date       open       high        low      close   volume name  \\\n",
       "250308 2013-02-08   390.4551   393.7283   390.1698   393.0777  6031199  GGL   \n",
       "250309 2013-02-11   389.5892   391.8915   387.2619   391.6012  4330781  GGL   \n",
       "250310 2013-02-12   391.2659   394.3440   390.0747   390.7403  3714176  GGL   \n",
       "250311 2013-02-13   390.4551   393.0677   390.3750   391.8214  2393946  GGL   \n",
       "250312 2013-02-14   390.2549   394.7644   389.2739   394.3039  3466971  GGL   \n",
       "...           ...        ...        ...        ...        ...      ...  ...   \n",
       "252537 2018-02-01  1162.6100  1174.0000  1157.5200  1167.7000  2412114  GGL   \n",
       "252538 2018-02-02  1122.0000  1123.0700  1107.2800  1111.9000  4857943  GGL   \n",
       "252539 2018-02-05  1090.6000  1110.0000  1052.0300  1055.8000  3798301  GGL   \n",
       "252540 2018-02-06  1027.1800  1081.7100  1023.1400  1080.6000  3447956  GGL   \n",
       "252541 2018-02-07  1081.5400  1081.7800  1048.2600  1048.5800  2369232  GGL   \n",
       "\n",
       "        year  \n",
       "250308  2013  \n",
       "250309  2013  \n",
       "250310  2013  \n",
       "250311  2013  \n",
       "250312  2013  \n",
       "...      ...  \n",
       "252537  2018  \n",
       "252538  2018  \n",
       "252539  2018  \n",
       "252540  2018  \n",
       "252541  2018  \n",
       "\n",
       "[2234 rows x 8 columns]"
      ]
     },
     "execution_count": 33,
     "metadata": {},
     "output_type": "execute_result"
    }
   ],
   "source": [
    "stock_data.query('name==\"GGL\"')"
   ]
  },
  {
   "cell_type": "code",
   "execution_count": 34,
   "id": "0df30fc3",
   "metadata": {},
   "outputs": [
    {
     "data": {
      "text/plain": [
       "year  name\n",
       "2013  A       4.586794\n",
       "      AAL     3.281442\n",
       "      AAP     9.470546\n",
       "      AAPL    6.514463\n",
       "      ABBV    4.022812\n",
       "                ...   \n",
       "2018  XYL     1.992867\n",
       "      YUM     1.790431\n",
       "      ZBH     1.974638\n",
       "      ZION    1.327261\n",
       "      ZTS     2.343205\n",
       "Name: close, Length: 2975, dtype: float64"
      ]
     },
     "execution_count": 34,
     "metadata": {},
     "output_type": "execute_result"
    }
   ],
   "source": [
    "top"
   ]
  },
  {
   "cell_type": "markdown",
   "id": "458c775e",
   "metadata": {},
   "source": [
    "### Using SQL for the rest of the querying"
   ]
  },
  {
   "cell_type": "code",
   "execution_count": 114,
   "id": "95c454b4",
   "metadata": {},
   "outputs": [
    {
     "name": "stdout",
     "output_type": "stream",
     "text": [
      "Collecting package metadata (current_repodata.json): ...working... done\n",
      "Solving environment: ...working... done\n",
      "\n",
      "## Package Plan ##\n",
      "\n",
      "  environment location: C:\\Users\\toshiba\\anaconda3\n",
      "\n",
      "  added / updated specs:\n",
      "    - pandasql\n",
      "\n",
      "\n",
      "The following packages will be downloaded:\n",
      "\n",
      "    package                    |            build\n",
      "    ---------------------------|-----------------\n",
      "    ca-certificates-2021.7.5   |       haa95532_1         113 KB\n",
      "    openssl-1.1.1l             |       h2bbff1b_0         4.8 MB\n",
      "    pandasql-0.7.3             |   py38haa95532_1         319 KB\n",
      "    ------------------------------------------------------------\n",
      "                                           Total:         5.3 MB\n",
      "\n",
      "The following NEW packages will be INSTALLED:\n",
      "\n",
      "  pandasql           pkgs/main/win-64::pandasql-0.7.3-py38haa95532_1\n",
      "\n",
      "The following packages will be UPDATED:\n",
      "\n",
      "  ca-certificates    conda-forge::ca-certificates-2021.5.3~ --> pkgs/main::ca-certificates-2021.7.5-haa95532_1\n",
      "  openssl            conda-forge::openssl-1.1.1k-h8ffe710_0 --> pkgs/main::openssl-1.1.1l-h2bbff1b_0\n",
      "\n",
      "The following packages will be SUPERSEDED by a higher-priority channel:\n",
      "\n",
      "  certifi            conda-forge::certifi-2021.5.30-py38ha~ --> pkgs/main::certifi-2021.5.30-py38haa95532_0\n",
      "  conda              conda-forge::conda-4.10.3-py38haa244f~ --> pkgs/main::conda-4.10.3-py38haa95532_0\n",
      "\n",
      "\n",
      "\n",
      "Downloading and Extracting Packages\n",
      "\n",
      "ca-certificates-2021 | 113 KB    |            |   0% \n",
      "ca-certificates-2021 | 113 KB    | ##8        |  28% \n",
      "ca-certificates-2021 | 113 KB    | ########## | 100% \n",
      "ca-certificates-2021 | 113 KB    | ########## | 100% \n",
      "\n",
      "pandasql-0.7.3       | 319 KB    |            |   0% \n",
      "pandasql-0.7.3       | 319 KB    | ########## | 100% \n",
      "pandasql-0.7.3       | 319 KB    | ########## | 100% \n",
      "\n",
      "openssl-1.1.1l       | 4.8 MB    |            |   0% \n",
      "openssl-1.1.1l       | 4.8 MB    | ###2       |  33% \n",
      "openssl-1.1.1l       | 4.8 MB    | #########4 |  94% \n",
      "openssl-1.1.1l       | 4.8 MB    | ########## | 100% \n",
      "Preparing transaction: ...working... done\n",
      "Verifying transaction: ...working... done\n",
      "Executing transaction: ...working... done\n",
      "\n",
      "Note: you may need to restart the kernel to use updated packages.\n"
     ]
    }
   ],
   "source": [
    "conda install pandasql"
   ]
  },
  {
   "cell_type": "code",
   "execution_count": 64,
   "id": "6961fa9b",
   "metadata": {},
   "outputs": [],
   "source": [
    "from pandasql import sqldf"
   ]
  },
  {
   "cell_type": "code",
   "execution_count": 65,
   "id": "c695e043",
   "metadata": {},
   "outputs": [
    {
     "name": "stdout",
     "output_type": "stream",
     "text": [
      "                              date   open   high    low  close    volume name  \\\n",
      "0       2013-02-08 00:00:00.000000  15.07  15.12  14.63  14.75   8407500  AAL   \n",
      "1       2013-02-11 00:00:00.000000  14.89  15.01  14.26  14.46   8882000  AAL   \n",
      "2       2013-02-12 00:00:00.000000  14.45  14.51  14.10  14.27   8126000  AAL   \n",
      "3       2013-02-13 00:00:00.000000  14.30  14.94  14.25  14.66  10259500  AAL   \n",
      "4       2013-02-14 00:00:00.000000  14.94  14.96  13.16  13.99  31879900  AAL   \n",
      "...                            ...    ...    ...    ...    ...       ...  ...   \n",
      "619024  2018-02-01 00:00:00.000000  76.84  78.27  76.69  77.82   2982259  ZTS   \n",
      "619025  2018-02-02 00:00:00.000000  77.53  78.12  76.73  76.78   2595187  ZTS   \n",
      "619026  2018-02-05 00:00:00.000000  76.64  76.92  73.18  73.83   2962031  ZTS   \n",
      "619027  2018-02-06 00:00:00.000000  72.74  74.56  72.13  73.27   4924323  ZTS   \n",
      "619028  2018-02-07 00:00:00.000000  72.70  75.00  72.69  73.86   4534912  ZTS   \n",
      "\n",
      "        year  \n",
      "0       2013  \n",
      "1       2013  \n",
      "2       2013  \n",
      "3       2013  \n",
      "4       2013  \n",
      "...      ...  \n",
      "619024  2018  \n",
      "619025  2018  \n",
      "619026  2018  \n",
      "619027  2018  \n",
      "619028  2018  \n",
      "\n",
      "[619029 rows x 8 columns]\n"
     ]
    }
   ],
   "source": [
    "\n",
    "print(sqldf(\"SELECT * FROM stock_data;\", locals()))"
   ]
  },
  {
   "cell_type": "code",
   "execution_count": 66,
   "id": "9e946890",
   "metadata": {},
   "outputs": [
    {
     "name": "stdout",
     "output_type": "stream",
     "text": [
      "    year   name       close  rn\n",
      "0   2013   PCLN  164.155212   1\n",
      "1   2013    CMG   72.897361   2\n",
      "2   2013  GOOGL   45.258563   3\n",
      "3   2013   REGN   43.840440   4\n",
      "4   2013   AMZN   42.935227   5\n",
      "5   2014   PCLN   67.652941   1\n",
      "6   2014    CMG   62.017193   2\n",
      "7   2014   REGN   43.379578   3\n",
      "8   2014    AZO   28.621552   4\n",
      "9   2014   AMZN   27.665268   5\n",
      "10  2015   AMZN  110.745100   1\n",
      "11  2015   PCLN   94.932552   2\n",
      "12  2015  GOOGL   87.191521   3\n",
      "13  2015   GOOG   81.363737   4\n",
      "14  2015    CMG   60.936972   5\n",
      "15  2016   PCLN  128.768219   1\n",
      "16  2016   AMZN   92.362312   2\n",
      "17  2016    CMG   38.276631   3\n",
      "18  2016  GOOGL   37.403746   4\n",
      "19  2016    MTD   37.086392   5\n",
      "20  2017   PCLN  121.479972   1\n",
      "21  2017   AMZN  106.576374   2\n",
      "22  2017    AZO   84.039662   3\n",
      "23  2017   GOOG   77.232992   4\n",
      "24  2017  GOOGL   75.367676   5\n",
      "25  2018   AMZN   81.872832   1\n",
      "26  2018   PCLN   50.134806   2\n",
      "27  2018  GOOGL   40.948108   3\n",
      "28  2018   GOOG   39.489601   4\n",
      "29  2018   NFLX   28.141321   5\n"
     ]
    }
   ],
   "source": [
    "q='''WITH cte AS (\n",
    "   SELECT year, name, close,\n",
    "          row_number() OVER (PARTITION BY year ORDER BY close desc) rn\n",
    "   FROM top\n",
    ")\n",
    "SELECT year, name, close, rn\n",
    "FROM cte\n",
    "WHERE rn <= 5;'''\n",
    "print(sqldf(q, locals()))"
   ]
  },
  {
   "cell_type": "code",
   "execution_count": 67,
   "id": "13e32c6a",
   "metadata": {},
   "outputs": [
    {
     "name": "stdout",
     "output_type": "stream",
     "text": [
      "    name\n",
      "0   PCLN\n",
      "1    CMG\n",
      "2  GOOGL\n",
      "3   REGN\n",
      "4   AMZN\n"
     ]
    }
   ],
   "source": [
    "q='''SELECT DISTINCT name from top order by close DESC limit 5;'''\n",
    "print(sqldf(q, locals()))"
   ]
  },
  {
   "cell_type": "markdown",
   "id": "b1d0f43f",
   "metadata": {},
   "source": [
    "##### The answer to question 3:\n",
    "PCLN,\n",
    "AMZN,\n",
    "GGL,\n",
    "AZO,\n",
    "MTD"
   ]
  },
  {
   "cell_type": "markdown",
   "id": "d53257d8",
   "metadata": {},
   "source": [
    "# <font color=green>----------------------------------------------------------------------------------------------------</font>"
   ]
  },
  {
   "cell_type": "markdown",
   "id": "22aca70d",
   "metadata": {},
   "source": [
    "# Answering question 4: Let's zoom in and look at the Google stock in 2015 (`name` is `GOOGL`), again looking at the closing price. \n",
    "# Could you show daily, weekly, and monthly dynamics? Weeks should start on Mondays and be labelled by Monday's date."
   ]
  },
  {
   "cell_type": "markdown",
   "id": "70a877bd",
   "metadata": {},
   "source": [
    "#### Please note that I've already cleaned 'GOOGL' and 'GOOG' into 'GGL' while answering question 3. You can find the code above."
   ]
  },
  {
   "cell_type": "markdown",
   "id": "e7977bfd",
   "metadata": {},
   "source": [
    "#### Also, I've changed the 'date' column data type into datetime while the cleaning process above."
   ]
  },
  {
   "cell_type": "markdown",
   "id": "fca74a6b",
   "metadata": {},
   "source": [
    "#### Now, first I'm going to extract month, week, day and weed day columns for easier visualisation."
   ]
  },
  {
   "cell_type": "code",
   "execution_count": 36,
   "id": "df283de8",
   "metadata": {},
   "outputs": [],
   "source": [
    "stock_data['month']=pd.DatetimeIndex(stock_data['date']).month"
   ]
  },
  {
   "cell_type": "code",
   "execution_count": 37,
   "id": "07b827dd",
   "metadata": {},
   "outputs": [
    {
     "name": "stderr",
     "output_type": "stream",
     "text": [
      "<ipython-input-37-d52ee9ffebf9>:1: FutureWarning: weekofyear and week have been deprecated, please use DatetimeIndex.isocalendar().week instead, which returns a Series.  To exactly reproduce the behavior of week and weekofyear and return an Index, you may call pd.Int64Index(idx.isocalendar().week)\n",
      "  stock_data['week']=pd.DatetimeIndex(stock_data['date']).week\n"
     ]
    }
   ],
   "source": [
    "stock_data['week']=pd.DatetimeIndex(stock_data['date']).week"
   ]
  },
  {
   "cell_type": "code",
   "execution_count": 38,
   "id": "f04a175b",
   "metadata": {},
   "outputs": [
    {
     "data": {
      "text/html": [
       "<div>\n",
       "<style scoped>\n",
       "    .dataframe tbody tr th:only-of-type {\n",
       "        vertical-align: middle;\n",
       "    }\n",
       "\n",
       "    .dataframe tbody tr th {\n",
       "        vertical-align: top;\n",
       "    }\n",
       "\n",
       "    .dataframe thead th {\n",
       "        text-align: right;\n",
       "    }\n",
       "</style>\n",
       "<table border=\"1\" class=\"dataframe\">\n",
       "  <thead>\n",
       "    <tr style=\"text-align: right;\">\n",
       "      <th></th>\n",
       "      <th>date</th>\n",
       "      <th>open</th>\n",
       "      <th>high</th>\n",
       "      <th>low</th>\n",
       "      <th>close</th>\n",
       "      <th>volume</th>\n",
       "      <th>name</th>\n",
       "      <th>year</th>\n",
       "      <th>month</th>\n",
       "      <th>week</th>\n",
       "    </tr>\n",
       "  </thead>\n",
       "  <tbody>\n",
       "    <tr>\n",
       "      <th>0</th>\n",
       "      <td>2013-02-08</td>\n",
       "      <td>15.07</td>\n",
       "      <td>15.12</td>\n",
       "      <td>14.63</td>\n",
       "      <td>14.75</td>\n",
       "      <td>8407500</td>\n",
       "      <td>AAL</td>\n",
       "      <td>2013</td>\n",
       "      <td>2</td>\n",
       "      <td>6</td>\n",
       "    </tr>\n",
       "    <tr>\n",
       "      <th>1</th>\n",
       "      <td>2013-02-11</td>\n",
       "      <td>14.89</td>\n",
       "      <td>15.01</td>\n",
       "      <td>14.26</td>\n",
       "      <td>14.46</td>\n",
       "      <td>8882000</td>\n",
       "      <td>AAL</td>\n",
       "      <td>2013</td>\n",
       "      <td>2</td>\n",
       "      <td>7</td>\n",
       "    </tr>\n",
       "    <tr>\n",
       "      <th>2</th>\n",
       "      <td>2013-02-12</td>\n",
       "      <td>14.45</td>\n",
       "      <td>14.51</td>\n",
       "      <td>14.10</td>\n",
       "      <td>14.27</td>\n",
       "      <td>8126000</td>\n",
       "      <td>AAL</td>\n",
       "      <td>2013</td>\n",
       "      <td>2</td>\n",
       "      <td>7</td>\n",
       "    </tr>\n",
       "    <tr>\n",
       "      <th>3</th>\n",
       "      <td>2013-02-13</td>\n",
       "      <td>14.30</td>\n",
       "      <td>14.94</td>\n",
       "      <td>14.25</td>\n",
       "      <td>14.66</td>\n",
       "      <td>10259500</td>\n",
       "      <td>AAL</td>\n",
       "      <td>2013</td>\n",
       "      <td>2</td>\n",
       "      <td>7</td>\n",
       "    </tr>\n",
       "    <tr>\n",
       "      <th>4</th>\n",
       "      <td>2013-02-14</td>\n",
       "      <td>14.94</td>\n",
       "      <td>14.96</td>\n",
       "      <td>13.16</td>\n",
       "      <td>13.99</td>\n",
       "      <td>31879900</td>\n",
       "      <td>AAL</td>\n",
       "      <td>2013</td>\n",
       "      <td>2</td>\n",
       "      <td>7</td>\n",
       "    </tr>\n",
       "  </tbody>\n",
       "</table>\n",
       "</div>"
      ],
      "text/plain": [
       "        date   open   high    low  close    volume name  year  month  week\n",
       "0 2013-02-08  15.07  15.12  14.63  14.75   8407500  AAL  2013      2     6\n",
       "1 2013-02-11  14.89  15.01  14.26  14.46   8882000  AAL  2013      2     7\n",
       "2 2013-02-12  14.45  14.51  14.10  14.27   8126000  AAL  2013      2     7\n",
       "3 2013-02-13  14.30  14.94  14.25  14.66  10259500  AAL  2013      2     7\n",
       "4 2013-02-14  14.94  14.96  13.16  13.99  31879900  AAL  2013      2     7"
      ]
     },
     "execution_count": 38,
     "metadata": {},
     "output_type": "execute_result"
    }
   ],
   "source": [
    "stock_data.head()"
   ]
  },
  {
   "cell_type": "code",
   "execution_count": 39,
   "id": "0b3dcfe0",
   "metadata": {},
   "outputs": [],
   "source": [
    "stock_data['day']=pd.DatetimeIndex(stock_data['date']).day"
   ]
  },
  {
   "cell_type": "code",
   "execution_count": 80,
   "id": "6303c758",
   "metadata": {},
   "outputs": [
    {
     "data": {
      "text/html": [
       "<div>\n",
       "<style scoped>\n",
       "    .dataframe tbody tr th:only-of-type {\n",
       "        vertical-align: middle;\n",
       "    }\n",
       "\n",
       "    .dataframe tbody tr th {\n",
       "        vertical-align: top;\n",
       "    }\n",
       "\n",
       "    .dataframe thead th {\n",
       "        text-align: right;\n",
       "    }\n",
       "</style>\n",
       "<table border=\"1\" class=\"dataframe\">\n",
       "  <thead>\n",
       "    <tr style=\"text-align: right;\">\n",
       "      <th></th>\n",
       "      <th>date</th>\n",
       "      <th>open</th>\n",
       "      <th>high</th>\n",
       "      <th>low</th>\n",
       "      <th>close</th>\n",
       "      <th>volume</th>\n",
       "      <th>name</th>\n",
       "      <th>year</th>\n",
       "      <th>month</th>\n",
       "      <th>week</th>\n",
       "      <th>day</th>\n",
       "      <th>week_day</th>\n",
       "    </tr>\n",
       "  </thead>\n",
       "  <tbody>\n",
       "    <tr>\n",
       "      <th>0</th>\n",
       "      <td>2013-02-08</td>\n",
       "      <td>15.07</td>\n",
       "      <td>15.12</td>\n",
       "      <td>14.63</td>\n",
       "      <td>14.75</td>\n",
       "      <td>8407500</td>\n",
       "      <td>AAL</td>\n",
       "      <td>2013</td>\n",
       "      <td>2</td>\n",
       "      <td>6</td>\n",
       "      <td>8</td>\n",
       "      <td>Friday</td>\n",
       "    </tr>\n",
       "    <tr>\n",
       "      <th>1</th>\n",
       "      <td>2013-02-11</td>\n",
       "      <td>14.89</td>\n",
       "      <td>15.01</td>\n",
       "      <td>14.26</td>\n",
       "      <td>14.46</td>\n",
       "      <td>8882000</td>\n",
       "      <td>AAL</td>\n",
       "      <td>2013</td>\n",
       "      <td>2</td>\n",
       "      <td>7</td>\n",
       "      <td>11</td>\n",
       "      <td>Monday</td>\n",
       "    </tr>\n",
       "    <tr>\n",
       "      <th>2</th>\n",
       "      <td>2013-02-12</td>\n",
       "      <td>14.45</td>\n",
       "      <td>14.51</td>\n",
       "      <td>14.10</td>\n",
       "      <td>14.27</td>\n",
       "      <td>8126000</td>\n",
       "      <td>AAL</td>\n",
       "      <td>2013</td>\n",
       "      <td>2</td>\n",
       "      <td>7</td>\n",
       "      <td>12</td>\n",
       "      <td>Tuesday</td>\n",
       "    </tr>\n",
       "    <tr>\n",
       "      <th>3</th>\n",
       "      <td>2013-02-13</td>\n",
       "      <td>14.30</td>\n",
       "      <td>14.94</td>\n",
       "      <td>14.25</td>\n",
       "      <td>14.66</td>\n",
       "      <td>10259500</td>\n",
       "      <td>AAL</td>\n",
       "      <td>2013</td>\n",
       "      <td>2</td>\n",
       "      <td>7</td>\n",
       "      <td>13</td>\n",
       "      <td>Wednesday</td>\n",
       "    </tr>\n",
       "    <tr>\n",
       "      <th>4</th>\n",
       "      <td>2013-02-14</td>\n",
       "      <td>14.94</td>\n",
       "      <td>14.96</td>\n",
       "      <td>13.16</td>\n",
       "      <td>13.99</td>\n",
       "      <td>31879900</td>\n",
       "      <td>AAL</td>\n",
       "      <td>2013</td>\n",
       "      <td>2</td>\n",
       "      <td>7</td>\n",
       "      <td>14</td>\n",
       "      <td>Thursday</td>\n",
       "    </tr>\n",
       "    <tr>\n",
       "      <th>5</th>\n",
       "      <td>2013-02-15</td>\n",
       "      <td>13.93</td>\n",
       "      <td>14.61</td>\n",
       "      <td>13.93</td>\n",
       "      <td>14.50</td>\n",
       "      <td>15628000</td>\n",
       "      <td>AAL</td>\n",
       "      <td>2013</td>\n",
       "      <td>2</td>\n",
       "      <td>7</td>\n",
       "      <td>15</td>\n",
       "      <td>Friday</td>\n",
       "    </tr>\n",
       "    <tr>\n",
       "      <th>6</th>\n",
       "      <td>2013-02-19</td>\n",
       "      <td>14.33</td>\n",
       "      <td>14.56</td>\n",
       "      <td>14.08</td>\n",
       "      <td>14.26</td>\n",
       "      <td>11354400</td>\n",
       "      <td>AAL</td>\n",
       "      <td>2013</td>\n",
       "      <td>2</td>\n",
       "      <td>8</td>\n",
       "      <td>19</td>\n",
       "      <td>Tuesday</td>\n",
       "    </tr>\n",
       "    <tr>\n",
       "      <th>7</th>\n",
       "      <td>2013-02-20</td>\n",
       "      <td>14.17</td>\n",
       "      <td>14.26</td>\n",
       "      <td>13.15</td>\n",
       "      <td>13.33</td>\n",
       "      <td>14725200</td>\n",
       "      <td>AAL</td>\n",
       "      <td>2013</td>\n",
       "      <td>2</td>\n",
       "      <td>8</td>\n",
       "      <td>20</td>\n",
       "      <td>Wednesday</td>\n",
       "    </tr>\n",
       "    <tr>\n",
       "      <th>8</th>\n",
       "      <td>2013-02-21</td>\n",
       "      <td>13.62</td>\n",
       "      <td>13.95</td>\n",
       "      <td>12.90</td>\n",
       "      <td>13.37</td>\n",
       "      <td>11922100</td>\n",
       "      <td>AAL</td>\n",
       "      <td>2013</td>\n",
       "      <td>2</td>\n",
       "      <td>8</td>\n",
       "      <td>21</td>\n",
       "      <td>Thursday</td>\n",
       "    </tr>\n",
       "    <tr>\n",
       "      <th>9</th>\n",
       "      <td>2013-02-22</td>\n",
       "      <td>13.57</td>\n",
       "      <td>13.60</td>\n",
       "      <td>13.21</td>\n",
       "      <td>13.57</td>\n",
       "      <td>6071400</td>\n",
       "      <td>AAL</td>\n",
       "      <td>2013</td>\n",
       "      <td>2</td>\n",
       "      <td>8</td>\n",
       "      <td>22</td>\n",
       "      <td>Friday</td>\n",
       "    </tr>\n",
       "    <tr>\n",
       "      <th>10</th>\n",
       "      <td>2013-02-25</td>\n",
       "      <td>13.60</td>\n",
       "      <td>13.76</td>\n",
       "      <td>13.00</td>\n",
       "      <td>13.02</td>\n",
       "      <td>7186400</td>\n",
       "      <td>AAL</td>\n",
       "      <td>2013</td>\n",
       "      <td>2</td>\n",
       "      <td>9</td>\n",
       "      <td>25</td>\n",
       "      <td>Monday</td>\n",
       "    </tr>\n",
       "    <tr>\n",
       "      <th>11</th>\n",
       "      <td>2013-02-26</td>\n",
       "      <td>13.14</td>\n",
       "      <td>13.42</td>\n",
       "      <td>12.70</td>\n",
       "      <td>13.26</td>\n",
       "      <td>9419000</td>\n",
       "      <td>AAL</td>\n",
       "      <td>2013</td>\n",
       "      <td>2</td>\n",
       "      <td>9</td>\n",
       "      <td>26</td>\n",
       "      <td>Tuesday</td>\n",
       "    </tr>\n",
       "    <tr>\n",
       "      <th>12</th>\n",
       "      <td>2013-02-27</td>\n",
       "      <td>13.28</td>\n",
       "      <td>13.62</td>\n",
       "      <td>13.18</td>\n",
       "      <td>13.41</td>\n",
       "      <td>7390500</td>\n",
       "      <td>AAL</td>\n",
       "      <td>2013</td>\n",
       "      <td>2</td>\n",
       "      <td>9</td>\n",
       "      <td>27</td>\n",
       "      <td>Wednesday</td>\n",
       "    </tr>\n",
       "    <tr>\n",
       "      <th>13</th>\n",
       "      <td>2013-02-28</td>\n",
       "      <td>13.49</td>\n",
       "      <td>13.63</td>\n",
       "      <td>13.39</td>\n",
       "      <td>13.43</td>\n",
       "      <td>6143600</td>\n",
       "      <td>AAL</td>\n",
       "      <td>2013</td>\n",
       "      <td>2</td>\n",
       "      <td>9</td>\n",
       "      <td>28</td>\n",
       "      <td>Thursday</td>\n",
       "    </tr>\n",
       "    <tr>\n",
       "      <th>14</th>\n",
       "      <td>2013-03-01</td>\n",
       "      <td>13.37</td>\n",
       "      <td>13.95</td>\n",
       "      <td>13.32</td>\n",
       "      <td>13.61</td>\n",
       "      <td>7376800</td>\n",
       "      <td>AAL</td>\n",
       "      <td>2013</td>\n",
       "      <td>3</td>\n",
       "      <td>9</td>\n",
       "      <td>1</td>\n",
       "      <td>Friday</td>\n",
       "    </tr>\n",
       "    <tr>\n",
       "      <th>15</th>\n",
       "      <td>2013-03-04</td>\n",
       "      <td>13.50</td>\n",
       "      <td>14.07</td>\n",
       "      <td>13.47</td>\n",
       "      <td>13.90</td>\n",
       "      <td>8174800</td>\n",
       "      <td>AAL</td>\n",
       "      <td>2013</td>\n",
       "      <td>3</td>\n",
       "      <td>10</td>\n",
       "      <td>4</td>\n",
       "      <td>Monday</td>\n",
       "    </tr>\n",
       "    <tr>\n",
       "      <th>16</th>\n",
       "      <td>2013-03-05</td>\n",
       "      <td>14.01</td>\n",
       "      <td>14.05</td>\n",
       "      <td>13.71</td>\n",
       "      <td>14.05</td>\n",
       "      <td>7676100</td>\n",
       "      <td>AAL</td>\n",
       "      <td>2013</td>\n",
       "      <td>3</td>\n",
       "      <td>10</td>\n",
       "      <td>5</td>\n",
       "      <td>Tuesday</td>\n",
       "    </tr>\n",
       "    <tr>\n",
       "      <th>17</th>\n",
       "      <td>2013-03-06</td>\n",
       "      <td>14.52</td>\n",
       "      <td>14.68</td>\n",
       "      <td>14.25</td>\n",
       "      <td>14.57</td>\n",
       "      <td>13243200</td>\n",
       "      <td>AAL</td>\n",
       "      <td>2013</td>\n",
       "      <td>3</td>\n",
       "      <td>10</td>\n",
       "      <td>6</td>\n",
       "      <td>Wednesday</td>\n",
       "    </tr>\n",
       "    <tr>\n",
       "      <th>18</th>\n",
       "      <td>2013-03-07</td>\n",
       "      <td>14.70</td>\n",
       "      <td>14.93</td>\n",
       "      <td>14.50</td>\n",
       "      <td>14.82</td>\n",
       "      <td>9125300</td>\n",
       "      <td>AAL</td>\n",
       "      <td>2013</td>\n",
       "      <td>3</td>\n",
       "      <td>10</td>\n",
       "      <td>7</td>\n",
       "      <td>Thursday</td>\n",
       "    </tr>\n",
       "    <tr>\n",
       "      <th>19</th>\n",
       "      <td>2013-03-08</td>\n",
       "      <td>14.99</td>\n",
       "      <td>15.20</td>\n",
       "      <td>14.84</td>\n",
       "      <td>14.92</td>\n",
       "      <td>10593700</td>\n",
       "      <td>AAL</td>\n",
       "      <td>2013</td>\n",
       "      <td>3</td>\n",
       "      <td>10</td>\n",
       "      <td>8</td>\n",
       "      <td>Friday</td>\n",
       "    </tr>\n",
       "  </tbody>\n",
       "</table>\n",
       "</div>"
      ],
      "text/plain": [
       "         date   open   high    low  close    volume name  year  month  week  \\\n",
       "0  2013-02-08  15.07  15.12  14.63  14.75   8407500  AAL  2013      2     6   \n",
       "1  2013-02-11  14.89  15.01  14.26  14.46   8882000  AAL  2013      2     7   \n",
       "2  2013-02-12  14.45  14.51  14.10  14.27   8126000  AAL  2013      2     7   \n",
       "3  2013-02-13  14.30  14.94  14.25  14.66  10259500  AAL  2013      2     7   \n",
       "4  2013-02-14  14.94  14.96  13.16  13.99  31879900  AAL  2013      2     7   \n",
       "5  2013-02-15  13.93  14.61  13.93  14.50  15628000  AAL  2013      2     7   \n",
       "6  2013-02-19  14.33  14.56  14.08  14.26  11354400  AAL  2013      2     8   \n",
       "7  2013-02-20  14.17  14.26  13.15  13.33  14725200  AAL  2013      2     8   \n",
       "8  2013-02-21  13.62  13.95  12.90  13.37  11922100  AAL  2013      2     8   \n",
       "9  2013-02-22  13.57  13.60  13.21  13.57   6071400  AAL  2013      2     8   \n",
       "10 2013-02-25  13.60  13.76  13.00  13.02   7186400  AAL  2013      2     9   \n",
       "11 2013-02-26  13.14  13.42  12.70  13.26   9419000  AAL  2013      2     9   \n",
       "12 2013-02-27  13.28  13.62  13.18  13.41   7390500  AAL  2013      2     9   \n",
       "13 2013-02-28  13.49  13.63  13.39  13.43   6143600  AAL  2013      2     9   \n",
       "14 2013-03-01  13.37  13.95  13.32  13.61   7376800  AAL  2013      3     9   \n",
       "15 2013-03-04  13.50  14.07  13.47  13.90   8174800  AAL  2013      3    10   \n",
       "16 2013-03-05  14.01  14.05  13.71  14.05   7676100  AAL  2013      3    10   \n",
       "17 2013-03-06  14.52  14.68  14.25  14.57  13243200  AAL  2013      3    10   \n",
       "18 2013-03-07  14.70  14.93  14.50  14.82   9125300  AAL  2013      3    10   \n",
       "19 2013-03-08  14.99  15.20  14.84  14.92  10593700  AAL  2013      3    10   \n",
       "\n",
       "    day   week_day  \n",
       "0     8     Friday  \n",
       "1    11     Monday  \n",
       "2    12    Tuesday  \n",
       "3    13  Wednesday  \n",
       "4    14   Thursday  \n",
       "5    15     Friday  \n",
       "6    19    Tuesday  \n",
       "7    20  Wednesday  \n",
       "8    21   Thursday  \n",
       "9    22     Friday  \n",
       "10   25     Monday  \n",
       "11   26    Tuesday  \n",
       "12   27  Wednesday  \n",
       "13   28   Thursday  \n",
       "14    1     Friday  \n",
       "15    4     Monday  \n",
       "16    5    Tuesday  \n",
       "17    6  Wednesday  \n",
       "18    7   Thursday  \n",
       "19    8     Friday  "
      ]
     },
     "execution_count": 80,
     "metadata": {},
     "output_type": "execute_result"
    }
   ],
   "source": [
    "stock_data.head(20)"
   ]
  },
  {
   "cell_type": "code",
   "execution_count": 68,
   "id": "ba520a03",
   "metadata": {},
   "outputs": [],
   "source": [
    "stock_data['week_day'] = stock_data['date'].dt.day_name()"
   ]
  },
  {
   "cell_type": "code",
   "execution_count": 69,
   "id": "581be274",
   "metadata": {},
   "outputs": [
    {
     "data": {
      "text/html": [
       "<div>\n",
       "<style scoped>\n",
       "    .dataframe tbody tr th:only-of-type {\n",
       "        vertical-align: middle;\n",
       "    }\n",
       "\n",
       "    .dataframe tbody tr th {\n",
       "        vertical-align: top;\n",
       "    }\n",
       "\n",
       "    .dataframe thead th {\n",
       "        text-align: right;\n",
       "    }\n",
       "</style>\n",
       "<table border=\"1\" class=\"dataframe\">\n",
       "  <thead>\n",
       "    <tr style=\"text-align: right;\">\n",
       "      <th></th>\n",
       "      <th>date</th>\n",
       "      <th>open</th>\n",
       "      <th>high</th>\n",
       "      <th>low</th>\n",
       "      <th>close</th>\n",
       "      <th>volume</th>\n",
       "      <th>name</th>\n",
       "      <th>year</th>\n",
       "      <th>month</th>\n",
       "      <th>week</th>\n",
       "      <th>day</th>\n",
       "      <th>week_day</th>\n",
       "    </tr>\n",
       "  </thead>\n",
       "  <tbody>\n",
       "    <tr>\n",
       "      <th>0</th>\n",
       "      <td>2013-02-08</td>\n",
       "      <td>15.07</td>\n",
       "      <td>15.12</td>\n",
       "      <td>14.63</td>\n",
       "      <td>14.75</td>\n",
       "      <td>8407500</td>\n",
       "      <td>AAL</td>\n",
       "      <td>2013</td>\n",
       "      <td>2</td>\n",
       "      <td>6</td>\n",
       "      <td>8</td>\n",
       "      <td>Friday</td>\n",
       "    </tr>\n",
       "    <tr>\n",
       "      <th>1</th>\n",
       "      <td>2013-02-11</td>\n",
       "      <td>14.89</td>\n",
       "      <td>15.01</td>\n",
       "      <td>14.26</td>\n",
       "      <td>14.46</td>\n",
       "      <td>8882000</td>\n",
       "      <td>AAL</td>\n",
       "      <td>2013</td>\n",
       "      <td>2</td>\n",
       "      <td>7</td>\n",
       "      <td>11</td>\n",
       "      <td>Monday</td>\n",
       "    </tr>\n",
       "    <tr>\n",
       "      <th>2</th>\n",
       "      <td>2013-02-12</td>\n",
       "      <td>14.45</td>\n",
       "      <td>14.51</td>\n",
       "      <td>14.10</td>\n",
       "      <td>14.27</td>\n",
       "      <td>8126000</td>\n",
       "      <td>AAL</td>\n",
       "      <td>2013</td>\n",
       "      <td>2</td>\n",
       "      <td>7</td>\n",
       "      <td>12</td>\n",
       "      <td>Tuesday</td>\n",
       "    </tr>\n",
       "    <tr>\n",
       "      <th>3</th>\n",
       "      <td>2013-02-13</td>\n",
       "      <td>14.30</td>\n",
       "      <td>14.94</td>\n",
       "      <td>14.25</td>\n",
       "      <td>14.66</td>\n",
       "      <td>10259500</td>\n",
       "      <td>AAL</td>\n",
       "      <td>2013</td>\n",
       "      <td>2</td>\n",
       "      <td>7</td>\n",
       "      <td>13</td>\n",
       "      <td>Wednesday</td>\n",
       "    </tr>\n",
       "    <tr>\n",
       "      <th>4</th>\n",
       "      <td>2013-02-14</td>\n",
       "      <td>14.94</td>\n",
       "      <td>14.96</td>\n",
       "      <td>13.16</td>\n",
       "      <td>13.99</td>\n",
       "      <td>31879900</td>\n",
       "      <td>AAL</td>\n",
       "      <td>2013</td>\n",
       "      <td>2</td>\n",
       "      <td>7</td>\n",
       "      <td>14</td>\n",
       "      <td>Thursday</td>\n",
       "    </tr>\n",
       "  </tbody>\n",
       "</table>\n",
       "</div>"
      ],
      "text/plain": [
       "        date   open   high    low  close    volume name  year  month  week  \\\n",
       "0 2013-02-08  15.07  15.12  14.63  14.75   8407500  AAL  2013      2     6   \n",
       "1 2013-02-11  14.89  15.01  14.26  14.46   8882000  AAL  2013      2     7   \n",
       "2 2013-02-12  14.45  14.51  14.10  14.27   8126000  AAL  2013      2     7   \n",
       "3 2013-02-13  14.30  14.94  14.25  14.66  10259500  AAL  2013      2     7   \n",
       "4 2013-02-14  14.94  14.96  13.16  13.99  31879900  AAL  2013      2     7   \n",
       "\n",
       "   day   week_day  \n",
       "0    8     Friday  \n",
       "1   11     Monday  \n",
       "2   12    Tuesday  \n",
       "3   13  Wednesday  \n",
       "4   14   Thursday  "
      ]
     },
     "execution_count": 69,
     "metadata": {},
     "output_type": "execute_result"
    }
   ],
   "source": [
    "stock_data.head()"
   ]
  },
  {
   "cell_type": "code",
   "execution_count": 70,
   "id": "e8fb2cae",
   "metadata": {},
   "outputs": [
    {
     "data": {
      "text/html": [
       "<div>\n",
       "<style scoped>\n",
       "    .dataframe tbody tr th:only-of-type {\n",
       "        vertical-align: middle;\n",
       "    }\n",
       "\n",
       "    .dataframe tbody tr th {\n",
       "        vertical-align: top;\n",
       "    }\n",
       "\n",
       "    .dataframe thead th {\n",
       "        text-align: right;\n",
       "    }\n",
       "</style>\n",
       "<table border=\"1\" class=\"dataframe\">\n",
       "  <thead>\n",
       "    <tr style=\"text-align: right;\">\n",
       "      <th></th>\n",
       "      <th>date</th>\n",
       "      <th>open</th>\n",
       "      <th>high</th>\n",
       "      <th>low</th>\n",
       "      <th>close</th>\n",
       "      <th>volume</th>\n",
       "      <th>name</th>\n",
       "      <th>year</th>\n",
       "      <th>month</th>\n",
       "      <th>week</th>\n",
       "      <th>day</th>\n",
       "      <th>week_day</th>\n",
       "    </tr>\n",
       "  </thead>\n",
       "  <tbody>\n",
       "    <tr>\n",
       "      <th>10</th>\n",
       "      <td>2013-02-25</td>\n",
       "      <td>13.60</td>\n",
       "      <td>13.7600</td>\n",
       "      <td>13.00</td>\n",
       "      <td>13.02</td>\n",
       "      <td>7186400</td>\n",
       "      <td>AAL</td>\n",
       "      <td>2013</td>\n",
       "      <td>2</td>\n",
       "      <td>9</td>\n",
       "      <td>25</td>\n",
       "      <td>Monday</td>\n",
       "    </tr>\n",
       "    <tr>\n",
       "      <th>11</th>\n",
       "      <td>2013-02-26</td>\n",
       "      <td>13.14</td>\n",
       "      <td>13.4200</td>\n",
       "      <td>12.70</td>\n",
       "      <td>13.26</td>\n",
       "      <td>9419000</td>\n",
       "      <td>AAL</td>\n",
       "      <td>2013</td>\n",
       "      <td>2</td>\n",
       "      <td>9</td>\n",
       "      <td>26</td>\n",
       "      <td>Tuesday</td>\n",
       "    </tr>\n",
       "    <tr>\n",
       "      <th>12</th>\n",
       "      <td>2013-02-27</td>\n",
       "      <td>13.28</td>\n",
       "      <td>13.6200</td>\n",
       "      <td>13.18</td>\n",
       "      <td>13.41</td>\n",
       "      <td>7390500</td>\n",
       "      <td>AAL</td>\n",
       "      <td>2013</td>\n",
       "      <td>2</td>\n",
       "      <td>9</td>\n",
       "      <td>27</td>\n",
       "      <td>Wednesday</td>\n",
       "    </tr>\n",
       "    <tr>\n",
       "      <th>13</th>\n",
       "      <td>2013-02-28</td>\n",
       "      <td>13.49</td>\n",
       "      <td>13.6300</td>\n",
       "      <td>13.39</td>\n",
       "      <td>13.43</td>\n",
       "      <td>6143600</td>\n",
       "      <td>AAL</td>\n",
       "      <td>2013</td>\n",
       "      <td>2</td>\n",
       "      <td>9</td>\n",
       "      <td>28</td>\n",
       "      <td>Thursday</td>\n",
       "    </tr>\n",
       "    <tr>\n",
       "      <th>14</th>\n",
       "      <td>2013-03-01</td>\n",
       "      <td>13.37</td>\n",
       "      <td>13.9500</td>\n",
       "      <td>13.32</td>\n",
       "      <td>13.61</td>\n",
       "      <td>7376800</td>\n",
       "      <td>AAL</td>\n",
       "      <td>2013</td>\n",
       "      <td>3</td>\n",
       "      <td>9</td>\n",
       "      <td>1</td>\n",
       "      <td>Friday</td>\n",
       "    </tr>\n",
       "    <tr>\n",
       "      <th>...</th>\n",
       "      <td>...</td>\n",
       "      <td>...</td>\n",
       "      <td>...</td>\n",
       "      <td>...</td>\n",
       "      <td>...</td>\n",
       "      <td>...</td>\n",
       "      <td>...</td>\n",
       "      <td>...</td>\n",
       "      <td>...</td>\n",
       "      <td>...</td>\n",
       "      <td>...</td>\n",
       "      <td>...</td>\n",
       "    </tr>\n",
       "    <tr>\n",
       "      <th>618800</th>\n",
       "      <td>2017-02-27</td>\n",
       "      <td>53.85</td>\n",
       "      <td>54.1800</td>\n",
       "      <td>53.55</td>\n",
       "      <td>53.83</td>\n",
       "      <td>4220561</td>\n",
       "      <td>ZTS</td>\n",
       "      <td>2017</td>\n",
       "      <td>2</td>\n",
       "      <td>9</td>\n",
       "      <td>27</td>\n",
       "      <td>Monday</td>\n",
       "    </tr>\n",
       "    <tr>\n",
       "      <th>618801</th>\n",
       "      <td>2017-02-28</td>\n",
       "      <td>53.46</td>\n",
       "      <td>53.9650</td>\n",
       "      <td>53.24</td>\n",
       "      <td>53.31</td>\n",
       "      <td>4106339</td>\n",
       "      <td>ZTS</td>\n",
       "      <td>2017</td>\n",
       "      <td>2</td>\n",
       "      <td>9</td>\n",
       "      <td>28</td>\n",
       "      <td>Tuesday</td>\n",
       "    </tr>\n",
       "    <tr>\n",
       "      <th>618802</th>\n",
       "      <td>2017-03-01</td>\n",
       "      <td>53.73</td>\n",
       "      <td>54.0800</td>\n",
       "      <td>53.55</td>\n",
       "      <td>53.89</td>\n",
       "      <td>3581081</td>\n",
       "      <td>ZTS</td>\n",
       "      <td>2017</td>\n",
       "      <td>3</td>\n",
       "      <td>9</td>\n",
       "      <td>1</td>\n",
       "      <td>Wednesday</td>\n",
       "    </tr>\n",
       "    <tr>\n",
       "      <th>618803</th>\n",
       "      <td>2017-03-02</td>\n",
       "      <td>54.00</td>\n",
       "      <td>54.0800</td>\n",
       "      <td>53.31</td>\n",
       "      <td>53.37</td>\n",
       "      <td>3299974</td>\n",
       "      <td>ZTS</td>\n",
       "      <td>2017</td>\n",
       "      <td>3</td>\n",
       "      <td>9</td>\n",
       "      <td>2</td>\n",
       "      <td>Thursday</td>\n",
       "    </tr>\n",
       "    <tr>\n",
       "      <th>618804</th>\n",
       "      <td>2017-03-03</td>\n",
       "      <td>53.34</td>\n",
       "      <td>53.7175</td>\n",
       "      <td>53.25</td>\n",
       "      <td>53.42</td>\n",
       "      <td>2483602</td>\n",
       "      <td>ZTS</td>\n",
       "      <td>2017</td>\n",
       "      <td>3</td>\n",
       "      <td>9</td>\n",
       "      <td>3</td>\n",
       "      <td>Friday</td>\n",
       "    </tr>\n",
       "  </tbody>\n",
       "</table>\n",
       "<p>12220 rows × 12 columns</p>\n",
       "</div>"
      ],
      "text/plain": [
       "             date   open     high    low  close   volume name  year  month  \\\n",
       "10     2013-02-25  13.60  13.7600  13.00  13.02  7186400  AAL  2013      2   \n",
       "11     2013-02-26  13.14  13.4200  12.70  13.26  9419000  AAL  2013      2   \n",
       "12     2013-02-27  13.28  13.6200  13.18  13.41  7390500  AAL  2013      2   \n",
       "13     2013-02-28  13.49  13.6300  13.39  13.43  6143600  AAL  2013      2   \n",
       "14     2013-03-01  13.37  13.9500  13.32  13.61  7376800  AAL  2013      3   \n",
       "...           ...    ...      ...    ...    ...      ...  ...   ...    ...   \n",
       "618800 2017-02-27  53.85  54.1800  53.55  53.83  4220561  ZTS  2017      2   \n",
       "618801 2017-02-28  53.46  53.9650  53.24  53.31  4106339  ZTS  2017      2   \n",
       "618802 2017-03-01  53.73  54.0800  53.55  53.89  3581081  ZTS  2017      3   \n",
       "618803 2017-03-02  54.00  54.0800  53.31  53.37  3299974  ZTS  2017      3   \n",
       "618804 2017-03-03  53.34  53.7175  53.25  53.42  2483602  ZTS  2017      3   \n",
       "\n",
       "        week  day   week_day  \n",
       "10         9   25     Monday  \n",
       "11         9   26    Tuesday  \n",
       "12         9   27  Wednesday  \n",
       "13         9   28   Thursday  \n",
       "14         9    1     Friday  \n",
       "...      ...  ...        ...  \n",
       "618800     9   27     Monday  \n",
       "618801     9   28    Tuesday  \n",
       "618802     9    1  Wednesday  \n",
       "618803     9    2   Thursday  \n",
       "618804     9    3     Friday  \n",
       "\n",
       "[12220 rows x 12 columns]"
      ]
     },
     "execution_count": 70,
     "metadata": {},
     "output_type": "execute_result"
    }
   ],
   "source": [
    "stock_data.query('week==9')"
   ]
  },
  {
   "cell_type": "code",
   "execution_count": 71,
   "id": "9bc1c361",
   "metadata": {},
   "outputs": [],
   "source": [
    "ggl_2015=stock_data.query('year==2015') "
   ]
  },
  {
   "cell_type": "code",
   "execution_count": 72,
   "id": "0368c50f",
   "metadata": {},
   "outputs": [
    {
     "data": {
      "text/html": [
       "<div>\n",
       "<style scoped>\n",
       "    .dataframe tbody tr th:only-of-type {\n",
       "        vertical-align: middle;\n",
       "    }\n",
       "\n",
       "    .dataframe tbody tr th {\n",
       "        vertical-align: top;\n",
       "    }\n",
       "\n",
       "    .dataframe thead th {\n",
       "        text-align: right;\n",
       "    }\n",
       "</style>\n",
       "<table border=\"1\" class=\"dataframe\">\n",
       "  <thead>\n",
       "    <tr style=\"text-align: right;\">\n",
       "      <th></th>\n",
       "      <th>date</th>\n",
       "      <th>open</th>\n",
       "      <th>high</th>\n",
       "      <th>low</th>\n",
       "      <th>close</th>\n",
       "      <th>volume</th>\n",
       "      <th>name</th>\n",
       "      <th>year</th>\n",
       "      <th>month</th>\n",
       "      <th>week</th>\n",
       "      <th>day</th>\n",
       "      <th>week_day</th>\n",
       "    </tr>\n",
       "  </thead>\n",
       "  <tbody>\n",
       "    <tr>\n",
       "      <th>478</th>\n",
       "      <td>2015-01-02</td>\n",
       "      <td>54.28</td>\n",
       "      <td>54.60</td>\n",
       "      <td>53.07</td>\n",
       "      <td>53.910</td>\n",
       "      <td>10756705</td>\n",
       "      <td>AAL</td>\n",
       "      <td>2015</td>\n",
       "      <td>1</td>\n",
       "      <td>1</td>\n",
       "      <td>2</td>\n",
       "      <td>Friday</td>\n",
       "    </tr>\n",
       "    <tr>\n",
       "      <th>479</th>\n",
       "      <td>2015-01-05</td>\n",
       "      <td>54.37</td>\n",
       "      <td>54.54</td>\n",
       "      <td>53.34</td>\n",
       "      <td>53.875</td>\n",
       "      <td>11565004</td>\n",
       "      <td>AAL</td>\n",
       "      <td>2015</td>\n",
       "      <td>1</td>\n",
       "      <td>2</td>\n",
       "      <td>5</td>\n",
       "      <td>Monday</td>\n",
       "    </tr>\n",
       "    <tr>\n",
       "      <th>480</th>\n",
       "      <td>2015-01-06</td>\n",
       "      <td>54.27</td>\n",
       "      <td>54.43</td>\n",
       "      <td>52.13</td>\n",
       "      <td>53.040</td>\n",
       "      <td>13772171</td>\n",
       "      <td>AAL</td>\n",
       "      <td>2015</td>\n",
       "      <td>1</td>\n",
       "      <td>2</td>\n",
       "      <td>6</td>\n",
       "      <td>Tuesday</td>\n",
       "    </tr>\n",
       "    <tr>\n",
       "      <th>481</th>\n",
       "      <td>2015-01-07</td>\n",
       "      <td>53.38</td>\n",
       "      <td>53.65</td>\n",
       "      <td>52.12</td>\n",
       "      <td>53.010</td>\n",
       "      <td>10069816</td>\n",
       "      <td>AAL</td>\n",
       "      <td>2015</td>\n",
       "      <td>1</td>\n",
       "      <td>2</td>\n",
       "      <td>7</td>\n",
       "      <td>Wednesday</td>\n",
       "    </tr>\n",
       "    <tr>\n",
       "      <th>482</th>\n",
       "      <td>2015-01-08</td>\n",
       "      <td>53.48</td>\n",
       "      <td>54.28</td>\n",
       "      <td>53.25</td>\n",
       "      <td>53.660</td>\n",
       "      <td>9672064</td>\n",
       "      <td>AAL</td>\n",
       "      <td>2015</td>\n",
       "      <td>1</td>\n",
       "      <td>2</td>\n",
       "      <td>8</td>\n",
       "      <td>Thursday</td>\n",
       "    </tr>\n",
       "  </tbody>\n",
       "</table>\n",
       "</div>"
      ],
      "text/plain": [
       "          date   open   high    low   close    volume name  year  month  week  \\\n",
       "478 2015-01-02  54.28  54.60  53.07  53.910  10756705  AAL  2015      1     1   \n",
       "479 2015-01-05  54.37  54.54  53.34  53.875  11565004  AAL  2015      1     2   \n",
       "480 2015-01-06  54.27  54.43  52.13  53.040  13772171  AAL  2015      1     2   \n",
       "481 2015-01-07  53.38  53.65  52.12  53.010  10069816  AAL  2015      1     2   \n",
       "482 2015-01-08  53.48  54.28  53.25  53.660   9672064  AAL  2015      1     2   \n",
       "\n",
       "     day   week_day  \n",
       "478    2     Friday  \n",
       "479    5     Monday  \n",
       "480    6    Tuesday  \n",
       "481    7  Wednesday  \n",
       "482    8   Thursday  "
      ]
     },
     "execution_count": 72,
     "metadata": {},
     "output_type": "execute_result"
    }
   ],
   "source": [
    "ggl_2015.head()"
   ]
  },
  {
   "cell_type": "code",
   "execution_count": 73,
   "id": "f62dd0ef",
   "metadata": {},
   "outputs": [],
   "source": [
    "ggl_2015_filtered=ggl_2015.query('name==\"GGL\"') "
   ]
  },
  {
   "cell_type": "code",
   "execution_count": 74,
   "id": "164c0640",
   "metadata": {},
   "outputs": [
    {
     "data": {
      "text/html": [
       "<div>\n",
       "<style scoped>\n",
       "    .dataframe tbody tr th:only-of-type {\n",
       "        vertical-align: middle;\n",
       "    }\n",
       "\n",
       "    .dataframe tbody tr th {\n",
       "        vertical-align: top;\n",
       "    }\n",
       "\n",
       "    .dataframe thead th {\n",
       "        text-align: right;\n",
       "    }\n",
       "</style>\n",
       "<table border=\"1\" class=\"dataframe\">\n",
       "  <thead>\n",
       "    <tr style=\"text-align: right;\">\n",
       "      <th></th>\n",
       "      <th>date</th>\n",
       "      <th>open</th>\n",
       "      <th>high</th>\n",
       "      <th>low</th>\n",
       "      <th>close</th>\n",
       "      <th>volume</th>\n",
       "      <th>name</th>\n",
       "      <th>year</th>\n",
       "      <th>month</th>\n",
       "      <th>week</th>\n",
       "      <th>day</th>\n",
       "      <th>week_day</th>\n",
       "    </tr>\n",
       "  </thead>\n",
       "  <tbody>\n",
       "    <tr>\n",
       "      <th>250786</th>\n",
       "      <td>2015-01-02</td>\n",
       "      <td>532.60</td>\n",
       "      <td>535.8000</td>\n",
       "      <td>527.88</td>\n",
       "      <td>529.55</td>\n",
       "      <td>1327870</td>\n",
       "      <td>GGL</td>\n",
       "      <td>2015</td>\n",
       "      <td>1</td>\n",
       "      <td>1</td>\n",
       "      <td>2</td>\n",
       "      <td>Friday</td>\n",
       "    </tr>\n",
       "    <tr>\n",
       "      <th>250787</th>\n",
       "      <td>2015-01-05</td>\n",
       "      <td>527.15</td>\n",
       "      <td>527.9899</td>\n",
       "      <td>517.75</td>\n",
       "      <td>519.46</td>\n",
       "      <td>2059119</td>\n",
       "      <td>GGL</td>\n",
       "      <td>2015</td>\n",
       "      <td>1</td>\n",
       "      <td>2</td>\n",
       "      <td>5</td>\n",
       "      <td>Monday</td>\n",
       "    </tr>\n",
       "    <tr>\n",
       "      <th>250788</th>\n",
       "      <td>2015-01-06</td>\n",
       "      <td>520.50</td>\n",
       "      <td>521.2100</td>\n",
       "      <td>505.55</td>\n",
       "      <td>506.64</td>\n",
       "      <td>2731813</td>\n",
       "      <td>GGL</td>\n",
       "      <td>2015</td>\n",
       "      <td>1</td>\n",
       "      <td>2</td>\n",
       "      <td>6</td>\n",
       "      <td>Tuesday</td>\n",
       "    </tr>\n",
       "    <tr>\n",
       "      <th>250789</th>\n",
       "      <td>2015-01-07</td>\n",
       "      <td>510.95</td>\n",
       "      <td>511.4900</td>\n",
       "      <td>503.65</td>\n",
       "      <td>505.15</td>\n",
       "      <td>2345875</td>\n",
       "      <td>GGL</td>\n",
       "      <td>2015</td>\n",
       "      <td>1</td>\n",
       "      <td>2</td>\n",
       "      <td>7</td>\n",
       "      <td>Wednesday</td>\n",
       "    </tr>\n",
       "    <tr>\n",
       "      <th>250790</th>\n",
       "      <td>2015-01-08</td>\n",
       "      <td>501.51</td>\n",
       "      <td>507.5000</td>\n",
       "      <td>495.02</td>\n",
       "      <td>506.91</td>\n",
       "      <td>3662224</td>\n",
       "      <td>GGL</td>\n",
       "      <td>2015</td>\n",
       "      <td>1</td>\n",
       "      <td>2</td>\n",
       "      <td>8</td>\n",
       "      <td>Thursday</td>\n",
       "    </tr>\n",
       "  </tbody>\n",
       "</table>\n",
       "</div>"
      ],
      "text/plain": [
       "             date    open      high     low   close   volume name  year  \\\n",
       "250786 2015-01-02  532.60  535.8000  527.88  529.55  1327870  GGL  2015   \n",
       "250787 2015-01-05  527.15  527.9899  517.75  519.46  2059119  GGL  2015   \n",
       "250788 2015-01-06  520.50  521.2100  505.55  506.64  2731813  GGL  2015   \n",
       "250789 2015-01-07  510.95  511.4900  503.65  505.15  2345875  GGL  2015   \n",
       "250790 2015-01-08  501.51  507.5000  495.02  506.91  3662224  GGL  2015   \n",
       "\n",
       "        month  week  day   week_day  \n",
       "250786      1     1    2     Friday  \n",
       "250787      1     2    5     Monday  \n",
       "250788      1     2    6    Tuesday  \n",
       "250789      1     2    7  Wednesday  \n",
       "250790      1     2    8   Thursday  "
      ]
     },
     "execution_count": 74,
     "metadata": {},
     "output_type": "execute_result"
    }
   ],
   "source": [
    "ggl_2015_filtered.head()"
   ]
  },
  {
   "cell_type": "markdown",
   "id": "4d5906fe",
   "metadata": {},
   "source": [
    "#### And now let's a look at some visualisation of month, week, day and weed day dynamics, with the standard deviation as the confidence interval:"
   ]
  },
  {
   "cell_type": "code",
   "execution_count": 108,
   "id": "d5e6d1e4",
   "metadata": {},
   "outputs": [
    {
     "name": "stderr",
     "output_type": "stream",
     "text": [
      "C:\\Users\\toshiba\\anaconda3\\lib\\site-packages\\seaborn\\_decorators.py:36: FutureWarning: Pass the following variables as keyword args: x, y. From version 0.12, the only valid positional argument will be `data`, and passing other arguments without an explicit keyword will result in an error or misinterpretation.\n",
      "  warnings.warn(\n"
     ]
    },
    {
     "data": {
      "text/plain": [
       "<seaborn.axisgrid.FacetGrid at 0x1326a96c370>"
      ]
     },
     "execution_count": 108,
     "metadata": {},
     "output_type": "execute_result"
    },
    {
     "data": {
      "image/png": "[encoded data removed]",
      "text/plain": [
       "<Figure size 360x360 with 1 Axes>"
      ]
     },
     "metadata": {
      "needs_background": "light"
     },
     "output_type": "display_data"
    }
   ],
   "source": [
    "sns.relplot('month', 'close', data=ggl_2015_filtered,kind='line', ci='sd')"
   ]
  },
  {
   "cell_type": "code",
   "execution_count": 106,
   "id": "a29639bd",
   "metadata": {},
   "outputs": [
    {
     "name": "stderr",
     "output_type": "stream",
     "text": [
      "C:\\Users\\toshiba\\anaconda3\\lib\\site-packages\\seaborn\\_decorators.py:36: FutureWarning: Pass the following variables as keyword args: x, y. From version 0.12, the only valid positional argument will be `data`, and passing other arguments without an explicit keyword will result in an error or misinterpretation.\n",
      "  warnings.warn(\n"
     ]
    },
    {
     "data": {
      "text/plain": [
       "<seaborn.axisgrid.FacetGrid at 0x1326a8caf10>"
      ]
     },
     "execution_count": 106,
     "metadata": {},
     "output_type": "execute_result"
    },
    {
     "data": {
      "image/png": "[encoded data removed]",
      "text/plain": [
       "<Figure size 360x360 with 1 Axes>"
      ]
     },
     "metadata": {
      "needs_background": "light"
     },
     "output_type": "display_data"
    }
   ],
   "source": [
    "sns.relplot('week', 'close', data=ggl_2015_filtered,kind='line', ci='sd')"
   ]
  },
  {
   "cell_type": "code",
   "execution_count": 95,
   "id": "8326dc08",
   "metadata": {},
   "outputs": [
    {
     "name": "stderr",
     "output_type": "stream",
     "text": [
      "C:\\Users\\toshiba\\anaconda3\\lib\\site-packages\\seaborn\\_decorators.py:36: FutureWarning: Pass the following variables as keyword args: x, y. From version 0.12, the only valid positional argument will be `data`, and passing other arguments without an explicit keyword will result in an error or misinterpretation.\n",
      "  warnings.warn(\n"
     ]
    },
    {
     "data": {
      "text/plain": [
       "<seaborn.axisgrid.FacetGrid at 0x132694d9ca0>"
      ]
     },
     "execution_count": 95,
     "metadata": {},
     "output_type": "execute_result"
    },
    {
     "data": {
      "image/png": "[encoded data removed]",
      "text/plain": [
       "<Figure size 360x360 with 1 Axes>"
      ]
     },
     "metadata": {
      "needs_background": "light"
     },
     "output_type": "display_data"
    }
   ],
   "source": [
    "sns.relplot('day', 'close', data=ggl_2015_filtered,kind='line', ci='sd')"
   ]
  },
  {
   "cell_type": "code",
   "execution_count": 185,
   "id": "2cac693d",
   "metadata": {},
   "outputs": [
    {
     "name": "stderr",
     "output_type": "stream",
     "text": [
      "C:\\Users\\toshiba\\anaconda3\\lib\\site-packages\\seaborn\\_decorators.py:36: FutureWarning: Pass the following variables as keyword args: x, y. From version 0.12, the only valid positional argument will be `data`, and passing other arguments without an explicit keyword will result in an error or misinterpretation.\n",
      "  warnings.warn(\n"
     ]
    },
    {
     "data": {
      "text/plain": [
       "<seaborn.axisgrid.FacetGrid at 0x13204baf760>"
      ]
     },
     "execution_count": 185,
     "metadata": {},
     "output_type": "execute_result"
    },
    {
     "data": {
      "image/png": "[encoded data removed]",
      "text/plain": [
       "<Figure size 360x360 with 1 Axes>"
      ]
     },
     "metadata": {
      "needs_background": "light"
     },
     "output_type": "display_data"
    }
   ],
   "source": [
    "sns.relplot('week_day', 'close', data=ggl_2015_filtered,kind='line')"
   ]
  },
  {
   "cell_type": "markdown",
   "id": "8a23c3e8",
   "metadata": {},
   "source": [
    "#### Please note that dispite the chart above, Monady is always the begging of the week in the data frame as can be queried above."
   ]
  },
  {
   "cell_type": "code",
   "execution_count": 88,
   "id": "6968f3bd",
   "metadata": {},
   "outputs": [
    {
     "name": "stderr",
     "output_type": "stream",
     "text": [
      "<ipython-input-88-9053be16bfc4>:1: FutureWarning: Series.dt.weekofyear and Series.dt.week have been deprecated.  Please use Series.dt.isocalendar().week instead.\n",
      "  stock_data.loc[stock_data['date'].dt.week==12]\n"
     ]
    },
    {
     "data": {
      "text/html": [
       "<div>\n",
       "<style scoped>\n",
       "    .dataframe tbody tr th:only-of-type {\n",
       "        vertical-align: middle;\n",
       "    }\n",
       "\n",
       "    .dataframe tbody tr th {\n",
       "        vertical-align: top;\n",
       "    }\n",
       "\n",
       "    .dataframe thead th {\n",
       "        text-align: right;\n",
       "    }\n",
       "</style>\n",
       "<table border=\"1\" class=\"dataframe\">\n",
       "  <thead>\n",
       "    <tr style=\"text-align: right;\">\n",
       "      <th></th>\n",
       "      <th>date</th>\n",
       "      <th>open</th>\n",
       "      <th>high</th>\n",
       "      <th>low</th>\n",
       "      <th>close</th>\n",
       "      <th>volume</th>\n",
       "      <th>name</th>\n",
       "      <th>year</th>\n",
       "      <th>month</th>\n",
       "      <th>week</th>\n",
       "      <th>day</th>\n",
       "      <th>week_day</th>\n",
       "    </tr>\n",
       "  </thead>\n",
       "  <tbody>\n",
       "    <tr>\n",
       "      <th>25</th>\n",
       "      <td>2013-03-18</td>\n",
       "      <td>15.80</td>\n",
       "      <td>16.330</td>\n",
       "      <td>15.710</td>\n",
       "      <td>16.29</td>\n",
       "      <td>6514100</td>\n",
       "      <td>AAL</td>\n",
       "      <td>2013</td>\n",
       "      <td>3</td>\n",
       "      <td>12</td>\n",
       "      <td>18</td>\n",
       "      <td>Monday</td>\n",
       "    </tr>\n",
       "    <tr>\n",
       "      <th>26</th>\n",
       "      <td>2013-03-19</td>\n",
       "      <td>16.48</td>\n",
       "      <td>16.850</td>\n",
       "      <td>16.410</td>\n",
       "      <td>16.78</td>\n",
       "      <td>11805300</td>\n",
       "      <td>AAL</td>\n",
       "      <td>2013</td>\n",
       "      <td>3</td>\n",
       "      <td>12</td>\n",
       "      <td>19</td>\n",
       "      <td>Tuesday</td>\n",
       "    </tr>\n",
       "    <tr>\n",
       "      <th>27</th>\n",
       "      <td>2013-03-20</td>\n",
       "      <td>17.13</td>\n",
       "      <td>17.330</td>\n",
       "      <td>16.870</td>\n",
       "      <td>17.23</td>\n",
       "      <td>10819800</td>\n",
       "      <td>AAL</td>\n",
       "      <td>2013</td>\n",
       "      <td>3</td>\n",
       "      <td>12</td>\n",
       "      <td>20</td>\n",
       "      <td>Wednesday</td>\n",
       "    </tr>\n",
       "    <tr>\n",
       "      <th>28</th>\n",
       "      <td>2013-03-21</td>\n",
       "      <td>17.21</td>\n",
       "      <td>17.430</td>\n",
       "      <td>16.870</td>\n",
       "      <td>17.00</td>\n",
       "      <td>10740800</td>\n",
       "      <td>AAL</td>\n",
       "      <td>2013</td>\n",
       "      <td>3</td>\n",
       "      <td>12</td>\n",
       "      <td>21</td>\n",
       "      <td>Thursday</td>\n",
       "    </tr>\n",
       "    <tr>\n",
       "      <th>29</th>\n",
       "      <td>2013-03-22</td>\n",
       "      <td>17.10</td>\n",
       "      <td>17.290</td>\n",
       "      <td>16.770</td>\n",
       "      <td>16.86</td>\n",
       "      <td>8545200</td>\n",
       "      <td>AAL</td>\n",
       "      <td>2013</td>\n",
       "      <td>3</td>\n",
       "      <td>12</td>\n",
       "      <td>22</td>\n",
       "      <td>Friday</td>\n",
       "    </tr>\n",
       "    <tr>\n",
       "      <th>...</th>\n",
       "      <td>...</td>\n",
       "      <td>...</td>\n",
       "      <td>...</td>\n",
       "      <td>...</td>\n",
       "      <td>...</td>\n",
       "      <td>...</td>\n",
       "      <td>...</td>\n",
       "      <td>...</td>\n",
       "      <td>...</td>\n",
       "      <td>...</td>\n",
       "      <td>...</td>\n",
       "      <td>...</td>\n",
       "    </tr>\n",
       "    <tr>\n",
       "      <th>618815</th>\n",
       "      <td>2017-03-20</td>\n",
       "      <td>54.04</td>\n",
       "      <td>54.450</td>\n",
       "      <td>53.830</td>\n",
       "      <td>54.28</td>\n",
       "      <td>2180574</td>\n",
       "      <td>ZTS</td>\n",
       "      <td>2017</td>\n",
       "      <td>3</td>\n",
       "      <td>12</td>\n",
       "      <td>20</td>\n",
       "      <td>Monday</td>\n",
       "    </tr>\n",
       "    <tr>\n",
       "      <th>618816</th>\n",
       "      <td>2017-03-21</td>\n",
       "      <td>54.47</td>\n",
       "      <td>54.790</td>\n",
       "      <td>53.240</td>\n",
       "      <td>53.39</td>\n",
       "      <td>3008336</td>\n",
       "      <td>ZTS</td>\n",
       "      <td>2017</td>\n",
       "      <td>3</td>\n",
       "      <td>12</td>\n",
       "      <td>21</td>\n",
       "      <td>Tuesday</td>\n",
       "    </tr>\n",
       "    <tr>\n",
       "      <th>618817</th>\n",
       "      <td>2017-03-22</td>\n",
       "      <td>53.40</td>\n",
       "      <td>53.945</td>\n",
       "      <td>53.240</td>\n",
       "      <td>53.87</td>\n",
       "      <td>3276789</td>\n",
       "      <td>ZTS</td>\n",
       "      <td>2017</td>\n",
       "      <td>3</td>\n",
       "      <td>12</td>\n",
       "      <td>22</td>\n",
       "      <td>Wednesday</td>\n",
       "    </tr>\n",
       "    <tr>\n",
       "      <th>618818</th>\n",
       "      <td>2017-03-23</td>\n",
       "      <td>53.89</td>\n",
       "      <td>54.190</td>\n",
       "      <td>53.595</td>\n",
       "      <td>53.80</td>\n",
       "      <td>3015617</td>\n",
       "      <td>ZTS</td>\n",
       "      <td>2017</td>\n",
       "      <td>3</td>\n",
       "      <td>12</td>\n",
       "      <td>23</td>\n",
       "      <td>Thursday</td>\n",
       "    </tr>\n",
       "    <tr>\n",
       "      <th>618819</th>\n",
       "      <td>2017-03-24</td>\n",
       "      <td>53.85</td>\n",
       "      <td>54.210</td>\n",
       "      <td>53.590</td>\n",
       "      <td>53.85</td>\n",
       "      <td>2384029</td>\n",
       "      <td>ZTS</td>\n",
       "      <td>2017</td>\n",
       "      <td>3</td>\n",
       "      <td>12</td>\n",
       "      <td>24</td>\n",
       "      <td>Friday</td>\n",
       "    </tr>\n",
       "  </tbody>\n",
       "</table>\n",
       "<p>11709 rows × 12 columns</p>\n",
       "</div>"
      ],
      "text/plain": [
       "             date   open    high     low  close    volume name  year  month  \\\n",
       "25     2013-03-18  15.80  16.330  15.710  16.29   6514100  AAL  2013      3   \n",
       "26     2013-03-19  16.48  16.850  16.410  16.78  11805300  AAL  2013      3   \n",
       "27     2013-03-20  17.13  17.330  16.870  17.23  10819800  AAL  2013      3   \n",
       "28     2013-03-21  17.21  17.430  16.870  17.00  10740800  AAL  2013      3   \n",
       "29     2013-03-22  17.10  17.290  16.770  16.86   8545200  AAL  2013      3   \n",
       "...           ...    ...     ...     ...    ...       ...  ...   ...    ...   \n",
       "618815 2017-03-20  54.04  54.450  53.830  54.28   2180574  ZTS  2017      3   \n",
       "618816 2017-03-21  54.47  54.790  53.240  53.39   3008336  ZTS  2017      3   \n",
       "618817 2017-03-22  53.40  53.945  53.240  53.87   3276789  ZTS  2017      3   \n",
       "618818 2017-03-23  53.89  54.190  53.595  53.80   3015617  ZTS  2017      3   \n",
       "618819 2017-03-24  53.85  54.210  53.590  53.85   2384029  ZTS  2017      3   \n",
       "\n",
       "        week  day   week_day  \n",
       "25        12   18     Monday  \n",
       "26        12   19    Tuesday  \n",
       "27        12   20  Wednesday  \n",
       "28        12   21   Thursday  \n",
       "29        12   22     Friday  \n",
       "...      ...  ...        ...  \n",
       "618815    12   20     Monday  \n",
       "618816    12   21    Tuesday  \n",
       "618817    12   22  Wednesday  \n",
       "618818    12   23   Thursday  \n",
       "618819    12   24     Friday  \n",
       "\n",
       "[11709 rows x 12 columns]"
      ]
     },
     "execution_count": 88,
     "metadata": {},
     "output_type": "execute_result"
    }
   ],
   "source": [
    "stock_data.loc[stock_data['date'].dt.week==12]"
   ]
  },
  {
   "cell_type": "markdown",
   "id": "ea50f604",
   "metadata": {},
   "source": [
    "#### Further exploration of Google stock in 2015 using boxplot & histogram:"
   ]
  },
  {
   "cell_type": "code",
   "execution_count": 49,
   "id": "11d27422",
   "metadata": {},
   "outputs": [
    {
     "data": {
      "image/png": "[encoded data removed]",
      "text/plain": [
       "<Figure size 432x288 with 1 Axes>"
      ]
     },
     "metadata": {
      "needs_background": "light"
     },
     "output_type": "display_data"
    }
   ],
   "source": [
    "ggl_2015_filtered[['close']].boxplot()\n",
    "plt.show()"
   ]
  },
  {
   "cell_type": "code",
   "execution_count": 55,
   "id": "5e15078d",
   "metadata": {},
   "outputs": [
    {
     "name": "stderr",
     "output_type": "stream",
     "text": [
      "C:\\Users\\toshiba\\anaconda3\\lib\\site-packages\\seaborn\\distributions.py:2557: FutureWarning: `distplot` is a deprecated function and will be removed in a future version. Please adapt your code to use either `displot` (a figure-level function with similar flexibility) or `histplot` (an axes-level function for histograms).\n",
      "  warnings.warn(msg, FutureWarning)\n"
     ]
    },
    {
     "data": {
      "text/plain": [
       "<AxesSubplot:xlabel='close', ylabel='Density'>"
      ]
     },
     "execution_count": 55,
     "metadata": {},
     "output_type": "execute_result"
    },
    {
     "data": {
      "image/png": "[encoded data removed]",
      "text/plain": [
       "<Figure size 432x288 with 1 Axes>"
      ]
     },
     "metadata": {
      "needs_background": "light"
     },
     "output_type": "display_data"
    }
   ],
   "source": [
    "sns.distplot(ggl_2015_filtered['close'])"
   ]
  },
  {
   "cell_type": "markdown",
   "id": "47cdaadf",
   "metadata": {},
   "source": [
    "# <font color=green>----------------------------------------------------------------------------------------------------</font>"
   ]
  },
  {
   "cell_type": "markdown",
   "id": "63bc1f7b",
   "metadata": {},
   "source": [
    "# Answering question 5: Finally, please, show the closing prices of Google, Amazon (`AMZN`), and Microsoft (`MSFT`) on the same chart, for the whole duration of data. What do you see?"
   ]
  },
  {
   "cell_type": "code",
   "execution_count": 167,
   "id": "f7284381",
   "metadata": {},
   "outputs": [],
   "source": [
    "ggl_amzn_msft=stock_data.query('name== [\"GGL\", \"AMZN\", \"MSFT\"]')"
   ]
  },
  {
   "cell_type": "code",
   "execution_count": 168,
   "id": "121a94e9",
   "metadata": {},
   "outputs": [
    {
     "data": {
      "text/html": [
       "<div>\n",
       "<style scoped>\n",
       "    .dataframe tbody tr th:only-of-type {\n",
       "        vertical-align: middle;\n",
       "    }\n",
       "\n",
       "    .dataframe tbody tr th {\n",
       "        vertical-align: top;\n",
       "    }\n",
       "\n",
       "    .dataframe thead th {\n",
       "        text-align: right;\n",
       "    }\n",
       "</style>\n",
       "<table border=\"1\" class=\"dataframe\">\n",
       "  <thead>\n",
       "    <tr style=\"text-align: right;\">\n",
       "      <th></th>\n",
       "      <th>date</th>\n",
       "      <th>open</th>\n",
       "      <th>high</th>\n",
       "      <th>low</th>\n",
       "      <th>close</th>\n",
       "      <th>volume</th>\n",
       "      <th>name</th>\n",
       "      <th>year</th>\n",
       "      <th>month</th>\n",
       "      <th>week</th>\n",
       "      <th>day</th>\n",
       "      <th>week_day</th>\n",
       "    </tr>\n",
       "  </thead>\n",
       "  <tbody>\n",
       "    <tr>\n",
       "      <th>46387</th>\n",
       "      <td>2013-02-08</td>\n",
       "      <td>261.40</td>\n",
       "      <td>265.25</td>\n",
       "      <td>260.555</td>\n",
       "      <td>261.95</td>\n",
       "      <td>3879078</td>\n",
       "      <td>AMZN</td>\n",
       "      <td>2013</td>\n",
       "      <td>2</td>\n",
       "      <td>6</td>\n",
       "      <td>8</td>\n",
       "      <td>Friday</td>\n",
       "    </tr>\n",
       "    <tr>\n",
       "      <th>46388</th>\n",
       "      <td>2013-02-11</td>\n",
       "      <td>263.20</td>\n",
       "      <td>263.25</td>\n",
       "      <td>256.600</td>\n",
       "      <td>257.21</td>\n",
       "      <td>3403403</td>\n",
       "      <td>AMZN</td>\n",
       "      <td>2013</td>\n",
       "      <td>2</td>\n",
       "      <td>7</td>\n",
       "      <td>11</td>\n",
       "      <td>Monday</td>\n",
       "    </tr>\n",
       "    <tr>\n",
       "      <th>46389</th>\n",
       "      <td>2013-02-12</td>\n",
       "      <td>259.19</td>\n",
       "      <td>260.16</td>\n",
       "      <td>257.000</td>\n",
       "      <td>258.70</td>\n",
       "      <td>2938660</td>\n",
       "      <td>AMZN</td>\n",
       "      <td>2013</td>\n",
       "      <td>2</td>\n",
       "      <td>7</td>\n",
       "      <td>12</td>\n",
       "      <td>Tuesday</td>\n",
       "    </tr>\n",
       "    <tr>\n",
       "      <th>46390</th>\n",
       "      <td>2013-02-13</td>\n",
       "      <td>261.53</td>\n",
       "      <td>269.96</td>\n",
       "      <td>260.300</td>\n",
       "      <td>269.47</td>\n",
       "      <td>5292996</td>\n",
       "      <td>AMZN</td>\n",
       "      <td>2013</td>\n",
       "      <td>2</td>\n",
       "      <td>7</td>\n",
       "      <td>13</td>\n",
       "      <td>Wednesday</td>\n",
       "    </tr>\n",
       "    <tr>\n",
       "      <th>46391</th>\n",
       "      <td>2013-02-14</td>\n",
       "      <td>267.37</td>\n",
       "      <td>270.65</td>\n",
       "      <td>265.400</td>\n",
       "      <td>269.24</td>\n",
       "      <td>3462780</td>\n",
       "      <td>AMZN</td>\n",
       "      <td>2013</td>\n",
       "      <td>2</td>\n",
       "      <td>7</td>\n",
       "      <td>14</td>\n",
       "      <td>Thursday</td>\n",
       "    </tr>\n",
       "  </tbody>\n",
       "</table>\n",
       "</div>"
      ],
      "text/plain": [
       "            date    open    high      low   close   volume  name  year  month  \\\n",
       "46387 2013-02-08  261.40  265.25  260.555  261.95  3879078  AMZN  2013      2   \n",
       "46388 2013-02-11  263.20  263.25  256.600  257.21  3403403  AMZN  2013      2   \n",
       "46389 2013-02-12  259.19  260.16  257.000  258.70  2938660  AMZN  2013      2   \n",
       "46390 2013-02-13  261.53  269.96  260.300  269.47  5292996  AMZN  2013      2   \n",
       "46391 2013-02-14  267.37  270.65  265.400  269.24  3462780  AMZN  2013      2   \n",
       "\n",
       "       week  day   week_day  \n",
       "46387     6    8     Friday  \n",
       "46388     7   11     Monday  \n",
       "46389     7   12    Tuesday  \n",
       "46390     7   13  Wednesday  \n",
       "46391     7   14   Thursday  "
      ]
     },
     "execution_count": 168,
     "metadata": {},
     "output_type": "execute_result"
    }
   ],
   "source": [
    "ggl_amzn_msft.head()"
   ]
  },
  {
   "cell_type": "markdown",
   "id": "22ce6742",
   "metadata": {},
   "source": [
    "#### Cleaning; changing names into more understandable version"
   ]
  },
  {
   "cell_type": "code",
   "execution_count": 180,
   "id": "f614d598",
   "metadata": {},
   "outputs": [],
   "source": [
    "def clean_name(y):\n",
    "    if y in ['AMZN']:\n",
    "        return 'Amazon'\n",
    "    elif y in ['GGL']:\n",
    "        return 'Google'\n",
    "    elif y in ['MSFT']:\n",
    "        return 'Microsoft'\n",
    "    else:\n",
    "        return y"
   ]
  },
  {
   "cell_type": "code",
   "execution_count": 181,
   "id": "81f31ac1",
   "metadata": {},
   "outputs": [
    {
     "name": "stderr",
     "output_type": "stream",
     "text": [
      "<ipython-input-181-ff09885c16db>:1: SettingWithCopyWarning: \n",
      "A value is trying to be set on a copy of a slice from a DataFrame.\n",
      "Try using .loc[row_indexer,col_indexer] = value instead\n",
      "\n",
      "See the caveats in the documentation: https://pandas.pydata.org/pandas-docs/stable/user_guide/indexing.html#returning-a-view-versus-a-copy\n",
      "  ggl_amzn_msft['name']=list(map(clean_name,ggl_amzn_msft['name']))\n"
     ]
    }
   ],
   "source": [
    "ggl_amzn_msft['name']=list(map(clean_name,ggl_amzn_msft['name']))"
   ]
  },
  {
   "cell_type": "code",
   "execution_count": 182,
   "id": "e4ebd255",
   "metadata": {},
   "outputs": [
    {
     "data": {
      "text/html": [
       "<div>\n",
       "<style scoped>\n",
       "    .dataframe tbody tr th:only-of-type {\n",
       "        vertical-align: middle;\n",
       "    }\n",
       "\n",
       "    .dataframe tbody tr th {\n",
       "        vertical-align: top;\n",
       "    }\n",
       "\n",
       "    .dataframe thead th {\n",
       "        text-align: right;\n",
       "    }\n",
       "</style>\n",
       "<table border=\"1\" class=\"dataframe\">\n",
       "  <thead>\n",
       "    <tr style=\"text-align: right;\">\n",
       "      <th></th>\n",
       "      <th>date</th>\n",
       "      <th>open</th>\n",
       "      <th>high</th>\n",
       "      <th>low</th>\n",
       "      <th>close</th>\n",
       "      <th>volume</th>\n",
       "      <th>name</th>\n",
       "      <th>year</th>\n",
       "      <th>month</th>\n",
       "      <th>week</th>\n",
       "      <th>day</th>\n",
       "      <th>week_day</th>\n",
       "    </tr>\n",
       "  </thead>\n",
       "  <tbody>\n",
       "    <tr>\n",
       "      <th>46387</th>\n",
       "      <td>2013-02-08</td>\n",
       "      <td>261.40</td>\n",
       "      <td>265.25</td>\n",
       "      <td>260.555</td>\n",
       "      <td>261.95</td>\n",
       "      <td>3879078</td>\n",
       "      <td>Amazon</td>\n",
       "      <td>2013</td>\n",
       "      <td>2</td>\n",
       "      <td>6</td>\n",
       "      <td>8</td>\n",
       "      <td>Friday</td>\n",
       "    </tr>\n",
       "    <tr>\n",
       "      <th>46388</th>\n",
       "      <td>2013-02-11</td>\n",
       "      <td>263.20</td>\n",
       "      <td>263.25</td>\n",
       "      <td>256.600</td>\n",
       "      <td>257.21</td>\n",
       "      <td>3403403</td>\n",
       "      <td>Amazon</td>\n",
       "      <td>2013</td>\n",
       "      <td>2</td>\n",
       "      <td>7</td>\n",
       "      <td>11</td>\n",
       "      <td>Monday</td>\n",
       "    </tr>\n",
       "    <tr>\n",
       "      <th>46389</th>\n",
       "      <td>2013-02-12</td>\n",
       "      <td>259.19</td>\n",
       "      <td>260.16</td>\n",
       "      <td>257.000</td>\n",
       "      <td>258.70</td>\n",
       "      <td>2938660</td>\n",
       "      <td>Amazon</td>\n",
       "      <td>2013</td>\n",
       "      <td>2</td>\n",
       "      <td>7</td>\n",
       "      <td>12</td>\n",
       "      <td>Tuesday</td>\n",
       "    </tr>\n",
       "    <tr>\n",
       "      <th>46390</th>\n",
       "      <td>2013-02-13</td>\n",
       "      <td>261.53</td>\n",
       "      <td>269.96</td>\n",
       "      <td>260.300</td>\n",
       "      <td>269.47</td>\n",
       "      <td>5292996</td>\n",
       "      <td>Amazon</td>\n",
       "      <td>2013</td>\n",
       "      <td>2</td>\n",
       "      <td>7</td>\n",
       "      <td>13</td>\n",
       "      <td>Wednesday</td>\n",
       "    </tr>\n",
       "    <tr>\n",
       "      <th>46391</th>\n",
       "      <td>2013-02-14</td>\n",
       "      <td>267.37</td>\n",
       "      <td>270.65</td>\n",
       "      <td>265.400</td>\n",
       "      <td>269.24</td>\n",
       "      <td>3462780</td>\n",
       "      <td>Amazon</td>\n",
       "      <td>2013</td>\n",
       "      <td>2</td>\n",
       "      <td>7</td>\n",
       "      <td>14</td>\n",
       "      <td>Thursday</td>\n",
       "    </tr>\n",
       "  </tbody>\n",
       "</table>\n",
       "</div>"
      ],
      "text/plain": [
       "            date    open    high      low   close   volume    name  year  \\\n",
       "46387 2013-02-08  261.40  265.25  260.555  261.95  3879078  Amazon  2013   \n",
       "46388 2013-02-11  263.20  263.25  256.600  257.21  3403403  Amazon  2013   \n",
       "46389 2013-02-12  259.19  260.16  257.000  258.70  2938660  Amazon  2013   \n",
       "46390 2013-02-13  261.53  269.96  260.300  269.47  5292996  Amazon  2013   \n",
       "46391 2013-02-14  267.37  270.65  265.400  269.24  3462780  Amazon  2013   \n",
       "\n",
       "       month  week  day   week_day  \n",
       "46387      2     6    8     Friday  \n",
       "46388      2     7   11     Monday  \n",
       "46389      2     7   12    Tuesday  \n",
       "46390      2     7   13  Wednesday  \n",
       "46391      2     7   14   Thursday  "
      ]
     },
     "execution_count": 182,
     "metadata": {},
     "output_type": "execute_result"
    }
   ],
   "source": [
    "ggl_amzn_msft.head()"
   ]
  },
  {
   "cell_type": "markdown",
   "id": "f5546f39",
   "metadata": {},
   "source": [
    "#### Let's have a look at the distribution of close prices for those three"
   ]
  },
  {
   "cell_type": "code",
   "execution_count": 52,
   "id": "b4ebfdf5",
   "metadata": {},
   "outputs": [
    {
     "name": "stderr",
     "output_type": "stream",
     "text": [
      "C:\\Users\\toshiba\\anaconda3\\lib\\site-packages\\seaborn\\distributions.py:2557: FutureWarning: `distplot` is a deprecated function and will be removed in a future version. Please adapt your code to use either `displot` (a figure-level function with similar flexibility) or `histplot` (an axes-level function for histograms).\n",
      "  warnings.warn(msg, FutureWarning)\n"
     ]
    },
    {
     "data": {
      "text/plain": [
       "<AxesSubplot:xlabel='close', ylabel='Density'>"
      ]
     },
     "execution_count": 52,
     "metadata": {},
     "output_type": "execute_result"
    },
    {
     "data": {
      "image/png": "[encoded data removed]",
      "text/plain": [
       "<Figure size 432x288 with 1 Axes>"
      ]
     },
     "metadata": {
      "needs_background": "light"
     },
     "output_type": "display_data"
    }
   ],
   "source": [
    "sns.distplot( ggl_amzn_msft['close'])"
   ]
  },
  {
   "cell_type": "markdown",
   "id": "32ca69bb",
   "metadata": {},
   "source": [
    "#### And now the overall median for each of them"
   ]
  },
  {
   "cell_type": "code",
   "execution_count": 183,
   "id": "0b37a15a",
   "metadata": {},
   "outputs": [
    {
     "name": "stderr",
     "output_type": "stream",
     "text": [
      "C:\\Users\\toshiba\\anaconda3\\lib\\site-packages\\seaborn\\_decorators.py:36: FutureWarning: Pass the following variables as keyword args: x, y. From version 0.12, the only valid positional argument will be `data`, and passing other arguments without an explicit keyword will result in an error or misinterpretation.\n",
      "  warnings.warn(\n"
     ]
    },
    {
     "data": {
      "text/plain": [
       "<AxesSubplot:xlabel='name', ylabel='close'>"
      ]
     },
     "execution_count": 183,
     "metadata": {},
     "output_type": "execute_result"
    },
    {
     "data": {
      "image/png": "[encoded data removed]",
      "text/plain": [
       "<Figure size 432x288 with 1 Axes>"
      ]
     },
     "metadata": {
      "needs_background": "light"
     },
     "output_type": "display_data"
    }
   ],
   "source": [
    "sns.barplot(ggl_amzn_msft['name'], ggl_amzn_msft['close'], estimator=np.median)"
   ]
  },
  {
   "cell_type": "markdown",
   "id": "0d1894b4",
   "metadata": {},
   "source": [
    "#### Overall median over the years stacked:"
   ]
  },
  {
   "attachments": {
    "median_3stocks.timeline_stacked.PNG": {
     "image/png": "[encoded data removed]"
    }
   },
   "cell_type": "markdown",
   "id": "6180e2d8",
   "metadata": {},
   "source": [
    "![median_3stocks.timeline_stacked.PNG](attachment:median_3stocks.timeline_stacked.PNG)"
   ]
  },
  {
   "cell_type": "markdown",
   "id": "afb1dc52",
   "metadata": {},
   "source": [
    "#### The order of Google, Amazon & Microsoft is clear regarding the over all of close prices, with Microsoft lagging signeficantly behind the other two. However the case differs a bit when it comes to volatility and median over time as the charts below show"
   ]
  },
  {
   "cell_type": "markdown",
   "id": "93e56afe",
   "metadata": {},
   "source": [
    "#### The median with Standard deviation as confidence interval:"
   ]
  },
  {
   "cell_type": "code",
   "execution_count": 184,
   "id": "a37a32ec",
   "metadata": {},
   "outputs": [
    {
     "name": "stderr",
     "output_type": "stream",
     "text": [
      "C:\\Users\\toshiba\\anaconda3\\lib\\site-packages\\seaborn\\_decorators.py:36: FutureWarning: Pass the following variables as keyword args: x, y. From version 0.12, the only valid positional argument will be `data`, and passing other arguments without an explicit keyword will result in an error or misinterpretation.\n",
      "  warnings.warn(\n"
     ]
    },
    {
     "data": {
      "text/plain": [
       "<seaborn.axisgrid.FacetGrid at 0x13204ae13d0>"
      ]
     },
     "execution_count": 184,
     "metadata": {},
     "output_type": "execute_result"
    },
    {
     "data": {
      "image/png": "[encoded data removed]",
      "text/plain": [
       "<Figure size 441.5x360 with 1 Axes>"
      ]
     },
     "metadata": {
      "needs_background": "light"
     },
     "output_type": "display_data"
    }
   ],
   "source": [
    "sns.relplot('year', 'close', data=ggl_amzn_msft,kind='line', estimator='median', hue='name', ci='sd')"
   ]
  },
  {
   "cell_type": "markdown",
   "id": "55cd14d4",
   "metadata": {},
   "source": [
    "#### Standard Deviation timeline with a trend line:"
   ]
  },
  {
   "attachments": {
    "STDEV_3stocks.PNG": {
     "image/png": "[encoded data removed]"
    }
   },
   "cell_type": "markdown",
   "id": "f5abbed8",
   "metadata": {},
   "source": [
    "![STDEV_3stocks.PNG](attachment:STDEV_3stocks.PNG)"
   ]
  },
  {
   "cell_type": "markdown",
   "id": "85ff9ddf",
   "metadata": {},
   "source": [
    "### <font color=blue>Median-wise</font>, we can see that google ranks number one for the whole period from 2013-2018. But Amazon has taken over that rank in mid 2016 rising.\n",
    "### Microsoft maintain steady #3 rank with a small increase since 2017."
   ]
  },
  {
   "attachments": {},
   "cell_type": "markdown",
   "id": "689c0a02",
   "metadata": {},
   "source": [
    "### <font color=blue>Volatility-wise</font>, it's the opposite; Microsoft seems to be the least volatile, while Google ranks #2 with an almost horizontal trend line.\n",
    "### Amazon comes third with an upward trend line and higher Standard Deviation since 2014."
   ]
  },
  {
   "cell_type": "markdown",
   "id": "0d750509",
   "metadata": {},
   "source": [
    "# <font color=green>----------------------------------------------------------------------------------------------------</font>"
   ]
  },
  {
   "cell_type": "markdown",
   "id": "5fbe8fa4",
   "metadata": {},
   "source": [
    "#### <font color=green>I hope you enjoyed it. Thanks for your attention.</font>"
   ]
  }
 ],
 "metadata": {
  "kernelspec": {
   "display_name": "Python 3",
   "language": "python",
   "name": "python3"
  },
  "language_info": {
   "codemirror_mode": {
    "name": "ipython",
    "version": 3
   },
   "file_extension": ".py",
   "mimetype": "text/x-python",
   "name": "python",
   "nbconvert_exporter": "python",
   "pygments_lexer": "ipython3",
   "version": "3.8.10"
  }
 },
 "nbformat": 4,
 "nbformat_minor": 5
}
